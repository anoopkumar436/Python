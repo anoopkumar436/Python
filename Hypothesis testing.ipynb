{
 "cells": [
  {
   "cell_type": "code",
   "execution_count": 2,
   "metadata": {},
   "outputs": [],
   "source": [
    "import numpy as np\n",
    "import pandas as pd"
   ]
  },
  {
   "cell_type": "code",
   "execution_count": 12,
   "metadata": {},
   "outputs": [
    {
     "name": "stdout",
     "output_type": "stream",
     "text": [
      "<class 'pandas.core.frame.DataFrame'>\n",
      "RangeIndex: 50 entries, 0 to 49\n",
      "Data columns (total 5 columns):\n",
      " #   Column           Non-Null Count  Dtype  \n",
      "---  ------           --------------  -----  \n",
      " 0   R&D Spend        50 non-null     float64\n",
      " 1   Administration   50 non-null     float64\n",
      " 2   Marketing Spend  50 non-null     float64\n",
      " 3   State            50 non-null     object \n",
      " 4   Profit           50 non-null     float64\n",
      "dtypes: float64(4), object(1)\n",
      "memory usage: 2.1+ KB\n"
     ]
    }
   ],
   "source": [
    "data = pd.read_csv('50_Startups.csv')\n",
    "data.info()"
   ]
  },
  {
   "cell_type": "markdown",
   "metadata": {},
   "source": [
    "# Correlation test"
   ]
  },
  {
   "cell_type": "code",
   "execution_count": null,
   "metadata": {},
   "outputs": [],
   "source": [
    "# 50_Startups \n",
    "# Feature: R&D Spend, Admin Spend, Marketing\n",
    "# Label: Profit\n",
    "#\n",
    "# We test the relationship between each feature and label\n",
    "#\n",
    "# here we check two columns have co-reationship or not."
   ]
  },
  {
   "cell_type": "code",
   "execution_count": 5,
   "metadata": {},
   "outputs": [
    {
     "name": "stdout",
     "output_type": "stream",
     "text": [
      "Alternate Hypothesis Passed. R&D Spend and Profit have Linear Relationship\n"
     ]
    }
   ],
   "source": [
    "# 1. Pearsons Correlation Coeff\n",
    "from scipy.stats import pearsonr\n",
    "corr, pvalue =  pearsonr(data['R&D Spend'], data['Profit'])\n",
    "\n",
    "if pvalue <= 0.5:\n",
    "    print(\"Alternate Hypothesis Passed. R&D Spend and Profit have Linear Relationship\")\n",
    "else:\n",
    "    print(\"Null Hypothesis Passed. R&D Spend and Profit doesnot have Linear Relationship\")"
   ]
  },
  {
   "cell_type": "code",
   "execution_count": 7,
   "metadata": {
    "scrolled": true
   },
   "outputs": [
    {
     "data": {
      "text/plain": [
       "<matplotlib.collections.PathCollection at 0x266472ca548>"
      ]
     },
     "execution_count": 7,
     "metadata": {},
     "output_type": "execute_result"
    },
    {
     "data": {
      "image/png": "[encoded data removed]",
      "text/plain": [
       "<Figure size 432x288 with 1 Axes>"
      ]
     },
     "metadata": {
      "needs_background": "light"
     },
     "output_type": "display_data"
    }
   ],
   "source": [
    "import matplotlib.pyplot as plt\n",
    "%matplotlib inline\n",
    "plt.scatter(data['R&D Spend'], data['Profit'])"
   ]
  },
  {
   "cell_type": "code",
   "execution_count": 13,
   "metadata": {},
   "outputs": [
    {
     "name": "stdout",
     "output_type": "stream",
     "text": [
      "Alternate Hypothesis Passed. Administration and Profit have Linear Relationship\n"
     ]
    }
   ],
   "source": [
    "# 1. Pearsons Correlation Coeff\n",
    "corr, pvalue = pearsonr(data['Administration'],data['Profit'])\n",
    "if pvalue <= 0.5:\n",
    "    print(\"Alternate Hypothesis Passed. Administration and Profit have Linear Relationship\")\n",
    "else:\n",
    "    print(\"Null Hypothesis Passed. Administration and Profit doesnot have Linear Relationship\")"
   ]
  },
  {
   "cell_type": "code",
   "execution_count": 14,
   "metadata": {},
   "outputs": [
    {
     "name": "stdout",
     "output_type": "stream",
     "text": [
      "Alternate Hypothesis Passed. Marketing Spend and Profit have Linear Relationship\n"
     ]
    }
   ],
   "source": [
    "corr, pvalue = pearsonr(data['Marketing Spend'], data['Profit'])\n",
    "if pvalue <= 0.5:\n",
    "    print(\"Alternate Hypothesis Passed. Marketing Spend and Profit have Linear Relationship\")\n",
    "else:\n",
    "    print(\"Null Hypothesis Passed. Marketing Spend and Profit doesnot have Linear Relationship\")    "
   ]
  },
  {
   "cell_type": "code",
   "execution_count": 8,
   "metadata": {},
   "outputs": [
    {
     "name": "stdout",
     "output_type": "stream",
     "text": [
      "Alternate Hypothesis Passed. R&D Spend and Profit have Linear Relationship\n"
     ]
    }
   ],
   "source": [
    "# 2. Spearmans Rank test\n",
    "from scipy.stats import spearmanr\n",
    "corr, pvalue = spearmanr(data['R&D Spend'], data['Profit'])\n",
    "\n",
    "if pvalue <= 0.5:\n",
    "    print(\"Alternate Hypothesis Passed. R&D Spend and Profit have Linear Relationship\")\n",
    "else:\n",
    "    print(\"Null Hypothesis Passed. R&D Spend and Profit doesnot have Linear Relationship\")\n"
   ]
  },
  {
   "cell_type": "code",
   "execution_count": 20,
   "metadata": {},
   "outputs": [
    {
     "name": "stdout",
     "output_type": "stream",
     "text": [
      "Alternate Hypothesis Passed. Administration and Profit have Linear Relationship\n"
     ]
    }
   ],
   "source": [
    "# 2. Spearmans Rank test\n",
    "corr, pvalue = spearmanr(data['Administration'],data['Profit'])\n",
    "if pvalue <= 0.5:\n",
    "    print(\"Alternate Hypothesis Passed. Administration and Profit have Linear Relationship\")\n",
    "else:\n",
    "    print(\"Null Hypothesis Passed. Administration and Profit doesnot have Linear Relationship\")   "
   ]
  },
  {
   "cell_type": "code",
   "execution_count": 19,
   "metadata": {},
   "outputs": [
    {
     "name": "stdout",
     "output_type": "stream",
     "text": [
      "Alternate Hypothesis Passed. Marketing Spend and Profit have Linear Relationship\n"
     ]
    }
   ],
   "source": [
    "# 2. Spearmans Rank test\n",
    "corr, pvalue = spearmanr(data['Marketing Spend'], data['Profit'])\n",
    "if pvalue <= 0.5:\n",
    "    print(\"Alternate Hypothesis Passed. Marketing Spend and Profit have Linear Relationship\")\n",
    "else:\n",
    "    print(\"Null Hypothesis Passed. Marketing Spend and Profit doesnot have Linear Relationship\")\n",
    "    "
   ]
  },
  {
   "cell_type": "code",
   "execution_count": 9,
   "metadata": {},
   "outputs": [
    {
     "name": "stdout",
     "output_type": "stream",
     "text": [
      "Alternate Hypothesis Passed. R&D Spend and Profit have Linear Relationship\n"
     ]
    }
   ],
   "source": [
    "# 3. Kendall's Rank test\n",
    "from scipy.stats import kendalltau\n",
    "corr, pvalue = kendalltau(data['R&D Spend'], data['Profit'])\n",
    " \n",
    "if pvalue <= 0.5:\n",
    "    print(\"Alternate Hypothesis Passed. R&D Spend and Profit have Linear Relationship\")\n",
    "else:\n",
    "    print(\"Null Hypothesis Passed. R&D Spend and Profit doesnot have Linear Relationship\")    "
   ]
  },
  {
   "cell_type": "code",
   "execution_count": 21,
   "metadata": {},
   "outputs": [
    {
     "name": "stdout",
     "output_type": "stream",
     "text": [
      "Alternate Hypothesis Passed. Administration and Profit have Linear Relationship\n"
     ]
    }
   ],
   "source": [
    "# 3. Kendall's Rank test\n",
    "corr, pvalue = kendalltau(data['Administration'],data['Profit'])\n",
    "if pvalue <= 0.5:\n",
    "    print(\"Alternate Hypothesis Passed. Administration and Profit have Linear Relationship\")\n",
    "else:\n",
    "    print(\"Null Hypothesis Passed. Administration and Profit doesnot have Linear Relationship\")"
   ]
  },
  {
   "cell_type": "code",
   "execution_count": 22,
   "metadata": {},
   "outputs": [
    {
     "name": "stdout",
     "output_type": "stream",
     "text": [
      "Alternate Hypothesis Passed. Marketing Spend and Profit have Linear Relationship\n"
     ]
    }
   ],
   "source": [
    "# 3. Kendall's Rank test\n",
    "\n",
    "corr, pvalue = kendalltau(data['Marketing Spend'],data['Profit'])\n",
    "if pvalue <= 0.5:\n",
    "    print(\"Alternate Hypothesis Passed. Marketing Spend and Profit have Linear Relationship\")\n",
    "else:\n",
    "    print(\"Null Hypothesis Passed. Marketing Spend and Profit doesnot have Linear Relationship\")"
   ]
  },
  {
   "cell_type": "markdown",
   "metadata": {},
   "source": [
    "# Normality test\n",
    "To test whether the given column is Gaussian Distributed(Normally Distributed) or Not"
   ]
  },
  {
   "cell_type": "code",
   "execution_count": 23,
   "metadata": {},
   "outputs": [],
   "source": [
    "# 50_Startups \n",
    "# Feature: R&D Spend, Administration, Marketing Spend\n",
    "# Label: Profit\n",
    "#\n",
    "# If R&D Spend, Administration and Marketing Gaussian Distributed\n",
    "#\n",
    "#\n",
    "# Two reason:\n",
    "# 1. I know the fact that if your data is Guassian Distributed, your model will have an awesome accuracy score\n",
    "#     This helps me to decide which column requires Outlier Elimination !!!\n",
    "#\n",
    "#\n",
    "# 2. To determine which feature can be eliminated based on Feature Similarity check. The less the features, the more\n",
    "#    accuracte your model will be and less time required to train that model"
   ]
  },
  {
   "cell_type": "code",
   "execution_count": null,
   "metadata": {},
   "outputs": [],
   "source": [
    "#\n",
    "# Question: Is R&D Spend normalized data ?\n",
    "#\n",
    "# Hypoythesis Testing:\n",
    "#\n",
    "# Lets assume my SL is 0.05\n",
    "#\n",
    "# Null Hypothesis:       R&D Spend is NOT (Guassian)Normally Distributed : if calc_SL <= assumed_SL\n",
    "# Alternate Hypothesis:  R&D Spend is (Guassian)Normally Distributed : if calc_SL > assumed_SL\n",
    "#\n",
    "#\n",
    "#\n",
    "# To perform the test of above hypothesis, we shall choose any/all of the given algo\n",
    "# 1. Shapiro Test\n",
    "# 2. Normal Test\n",
    "# "
   ]
  },
  {
   "cell_type": "code",
   "execution_count": 28,
   "metadata": {},
   "outputs": [
    {
     "name": "stdout",
     "output_type": "stream",
     "text": [
      "Alternate Hypothesis Passed. R&D Spend is (Guassian)Normally Distributed\n"
     ]
    }
   ],
   "source": [
    "# 1. Shapiro Test\n",
    "from scipy.stats import shapiro\n",
    "stat, pvalue = shapiro(data['R&D Spend'])\n",
    "if pvalue > 0.05:\n",
    "    print(\"Alternate Hypothesis Passed. R&D Spend is (Guassian)Normally Distributed\")\n",
    "else:\n",
    "    print(\"Null Hypothesis Passed. R&D Spend is NOT (Guassian)Normally Distributed\") "
   ]
  },
  {
   "cell_type": "code",
   "execution_count": 33,
   "metadata": {},
   "outputs": [
    {
     "name": "stdout",
     "output_type": "stream",
     "text": [
      "Alternate Hypothesis Passed. Administration is (Guassian)Normally Distributed\n"
     ]
    }
   ],
   "source": [
    "# 1. Shapiro Test\n",
    "stat, pvalue = shapiro(data['Administration'])\n",
    "if pvalue > 0.05:\n",
    "    print(\"Alternate Hypothesis Passed. Administration is (Guassian)Normally Distributed\")\n",
    "else:\n",
    "    print(\"Null Hypothesis Passed. Administration is NOT (Guassian)Normally Distributed\")    "
   ]
  },
  {
   "cell_type": "code",
   "execution_count": 35,
   "metadata": {},
   "outputs": [
    {
     "name": "stdout",
     "output_type": "stream",
     "text": [
      "Alternate Hypothesis Passed. Marketing Spend is (Guassian)Normally Distributed\n"
     ]
    }
   ],
   "source": [
    "# 1. Shapiro Test\n",
    "stat, pvalue = shapiro(data['Marketing Spend'])\n",
    "if pvalue > 0.05:\n",
    "    print(\"Alternate Hypothesis Passed. Marketing Spend is (Guassian)Normally Distributed\")\n",
    "else:\n",
    "    print(\"Null Hypothesis Passed. Marketing Spend is NOT (Guassian)Normally Distributed\")     "
   ]
  },
  {
   "cell_type": "code",
   "execution_count": 29,
   "metadata": {},
   "outputs": [
    {
     "name": "stdout",
     "output_type": "stream",
     "text": [
      "Alternate Hypothesis Passed. R&D Spend is (Guassian)Normally Distributed\n"
     ]
    }
   ],
   "source": [
    "#2. Normal Test\n",
    "from scipy.stats import normaltest\n",
    "stat, pvalue = normaltest(data['R&D Spend'])\n",
    "\n",
    "if pvalue > 0.05:\n",
    "    print(\"Alternate Hypothesis Passed. R&D Spend is (Guassian)Normally Distributed\")\n",
    "else:\n",
    "    print(\"Null Hypothesis Passed. R&D Spend is NOT (Guassian)Normally Distributed\")"
   ]
  },
  {
   "cell_type": "code",
   "execution_count": 36,
   "metadata": {},
   "outputs": [
    {
     "name": "stdout",
     "output_type": "stream",
     "text": [
      "Alternate Hypothesis Passed. R&D Spend is (Guassian)Normally Distributed\n"
     ]
    }
   ],
   "source": [
    "#2. Normal Test\n",
    "stat, pvalue = normaltest(data['Administration'])\n",
    "if pvalue > 0.05:\n",
    "    print(\"Alternate Hypothesis Passed. R&D Spend is (Guassian)Normally Distributed\")\n",
    "else:\n",
    "    print(\"Null Hypothesis Passed. R&D Spend is NOT (Guassian)Normally Distributed\")    "
   ]
  },
  {
   "cell_type": "code",
   "execution_count": 37,
   "metadata": {},
   "outputs": [
    {
     "name": "stdout",
     "output_type": "stream",
     "text": [
      "Alternate Hypothesis Passed. R&D Spend is (Guassian)Normally Distributed\n"
     ]
    }
   ],
   "source": [
    "#2. Normal Test\n",
    "stat, pvalue = normaltest(data['Marketing Spend'])\n",
    "if pvalue > 0.05:\n",
    "    print(\"Alternate Hypothesis Passed. R&D Spend is (Guassian)Normally Distributed\")\n",
    "else:\n",
    "    print(\"Null Hypothesis Passed. R&D Spend is NOT (Guassian)Normally Distributed\")     "
   ]
  },
  {
   "cell_type": "code",
   "execution_count": 30,
   "metadata": {},
   "outputs": [
    {
     "data": {
      "text/plain": [
       "<matplotlib.axes._subplots.AxesSubplot at 0x26648be3108>"
      ]
     },
     "execution_count": 30,
     "metadata": {},
     "output_type": "execute_result"
    },
    {
     "data": {
      "image/png": "[encoded data removed]",
      "text/plain": [
       "<Figure size 432x288 with 1 Axes>"
      ]
     },
     "metadata": {
      "needs_background": "light"
     },
     "output_type": "display_data"
    }
   ],
   "source": [
    "import seaborn as sns\n",
    "sns.distplot(data['R&D Spend'])"
   ]
  },
  {
   "cell_type": "markdown",
   "metadata": {},
   "source": [
    "# Parametric Test\n",
    "Applicable for Normally Distributed Data. Helps me to identify whether the given two FEATURE columns are Statistically Similar columns or not. If they are similar, we have a scope to eliminate one of the column"
   ]
  },
  {
   "cell_type": "code",
   "execution_count": null,
   "metadata": {},
   "outputs": [],
   "source": [
    "# 50_Startups \n",
    "# Feature: R&D Spend, Administration, Marketing Spend --- All columns are normally distributed\n",
    "# Label: Profit\n",
    "# \n",
    "# To understand do we have any scope to eliminate similar features\n",
    "#"
   ]
  },
  {
   "cell_type": "code",
   "execution_count": null,
   "metadata": {},
   "outputs": [],
   "source": [
    "#\n",
    "# Question: Is R&D Spend & Administration statistically similar features ?\n",
    "#\n",
    "# Hypoythesis Testing:\n",
    "#\n",
    "# Lets assume my SL is 0.05\n",
    "#\n",
    "# Null Hypothesis:       R&D Spend & Administration are NOT DIFFERENT : if calc_SL > assumed_SL\n",
    "# Alternate Hypothesis:  R&D Spend & Administration are DIFFERENT : if calc_SL <= assumed_SL\n",
    "#\n",
    "#\n",
    "#\n",
    "# To perform the test of above hypothesis, we shall choose any/all of the given algo\n",
    "# 1. Student t-test\n",
    "# 2. Paired Student t-test\n",
    "# 3. ANOVA\n"
   ]
  },
  {
   "cell_type": "code",
   "execution_count": 38,
   "metadata": {},
   "outputs": [
    {
     "name": "stdout",
     "output_type": "stream",
     "text": [
      "Alternate Hypothesis passed. R&D Spend & Administration are DIFFERENT\n"
     ]
    }
   ],
   "source": [
    "# 1. Student t-test\n",
    "from scipy.stats import ttest_ind\n",
    "stat, pvalue = ttest_ind(data['R&D Spend'],data['Administration'])\n",
    "if pvalue <= 0.05:\n",
    "    print(\"Alternate Hypothesis passed. R&D Spend & Administration are DIFFERENT\")\n",
    "else:\n",
    "    print(\"Null hypothesis passed. R&D Spend & Administration are NOT DIFFERENT\")    "
   ]
  },
  {
   "cell_type": "code",
   "execution_count": 40,
   "metadata": {},
   "outputs": [
    {
     "name": "stdout",
     "output_type": "stream",
     "text": [
      "Alternate Hypothesis passed. R&D Spend & Marketing Spend are DIFFERENT\n"
     ]
    }
   ],
   "source": [
    "# 1. Student t-test\n",
    "stat, pvalue = ttest_ind(data['R&D Spend'],data['Marketing Spend'])\n",
    "if pvalue <= 0.05:\n",
    "    print(\"Alternate Hypothesis passed. R&D Spend & Marketing Spend are DIFFERENT\")\n",
    "else:\n",
    "    print(\"Null hypothesis passed. R&D Spend & Marketing Spend are NOT DIFFERENT\")"
   ]
  },
  {
   "cell_type": "code",
   "execution_count": 41,
   "metadata": {},
   "outputs": [
    {
     "name": "stdout",
     "output_type": "stream",
     "text": [
      "Alternate Hypothesis passed. Administration & Marketing Spend are DIFFERENT\n"
     ]
    }
   ],
   "source": [
    "# 1. Student t-test\n",
    "stat, pvalue = ttest_ind(data['Administration'],data['Marketing Spend'])\n",
    "if pvalue <= 0.05:\n",
    "    print(\"Alternate Hypothesis passed. Administration & Marketing Spend are DIFFERENT\")\n",
    "else:\n",
    "    print(\"Null hypothesis passed. Administration & Marketing Spend are NOT DIFFERENT\")"
   ]
  },
  {
   "cell_type": "code",
   "execution_count": 42,
   "metadata": {},
   "outputs": [
    {
     "name": "stdout",
     "output_type": "stream",
     "text": [
      "Alternate Hypothesis passed. R&D Spend & Administration are DIFFERENT\n"
     ]
    }
   ],
   "source": [
    "# 2. Paired Student t-test\n",
    "from scipy.stats import ttest_rel\n",
    "stat, pvalue = ttest_rel(data['R&D Spend'],data['Administration'])\n",
    "if pvalue <= 0.05:\n",
    "    print(\"Alternate Hypothesis passed. R&D Spend & Administration are DIFFERENT\")\n",
    "else:\n",
    "    print(\"Null hypothesis passed. R&D Spend & Administration are NOT DIFFERENT\")    "
   ]
  },
  {
   "cell_type": "code",
   "execution_count": 43,
   "metadata": {},
   "outputs": [
    {
     "name": "stdout",
     "output_type": "stream",
     "text": [
      "Alternate Hypothesis passed. R&D Spend & Administration are DIFFERENT\n"
     ]
    }
   ],
   "source": [
    "stat, pvalue = ttest_rel(data['R&D Spend'],data['Marketing Spend'])\n",
    "if pvalue <= 0.05:\n",
    "    print(\"Alternate Hypothesis passed. R&D Spend & Marketing Spend are DIFFERENT\")\n",
    "else:\n",
    "    print(\"Null hypothesis passed. R&D Spend & Marketing Spend are NOT DIFFERENT\")    "
   ]
  },
  {
   "cell_type": "code",
   "execution_count": 44,
   "metadata": {},
   "outputs": [
    {
     "name": "stdout",
     "output_type": "stream",
     "text": [
      "Alternate Hypothesis passed. R&D Spend & Administration are DIFFERENT\n"
     ]
    }
   ],
   "source": [
    "stat, pvalue = ttest_rel(data['Administration'],data['Marketing Spend'])\n",
    "if pvalue <= 0.05:\n",
    "    print(\"Alternate Hypothesis passed. Administration & Marketing Spend are DIFFERENT\")\n",
    "else:\n",
    "    print(\"Null hypothesis passed. Administration & Marketing Spend are NOT DIFFERENT\") "
   ]
  },
  {
   "cell_type": "code",
   "execution_count": 46,
   "metadata": {},
   "outputs": [
    {
     "name": "stdout",
     "output_type": "stream",
     "text": [
      "Alternate Hypothesis passed. R&D Spend & Administration are DIFFERENT\n"
     ]
    }
   ],
   "source": [
    "# 3. ANOVA\n",
    "from scipy.stats import f_oneway\n",
    "stat, pvalue = f_oneway(data['R&D Spend'],data['Administration'])\n",
    "if pvalue <= 0.05:\n",
    "    print(\"Alternate Hypothesis passed. R&D Spend & Administration are DIFFERENT\")\n",
    "else:\n",
    "    print(\"Null hypothesis passed. R&D Spend & Administration are NOT DIFFERENT\")  "
   ]
  },
  {
   "cell_type": "code",
   "execution_count": 48,
   "metadata": {},
   "outputs": [
    {
     "name": "stdout",
     "output_type": "stream",
     "text": [
      "Alternate Hypothesis passed. R&D Spend & Marketing Spend are DIFFERENT\n"
     ]
    }
   ],
   "source": [
    "stat, pvalue = f_oneway(data['R&D Spend'],data['Marketing Spend'])\n",
    "if pvalue <= 0.05:\n",
    "    print(\"Alternate Hypothesis passed. R&D Spend & Marketing Spend are DIFFERENT\")\n",
    "else:\n",
    "    print(\"Null hypothesis passed. R&D Spend & Marketing Spend are NOT DIFFERENT\")"
   ]
  },
  {
   "cell_type": "code",
   "execution_count": 49,
   "metadata": {},
   "outputs": [
    {
     "name": "stdout",
     "output_type": "stream",
     "text": [
      "Alternate Hypothesis passed. Administration & Marketing Spend are DIFFERENT\n"
     ]
    }
   ],
   "source": [
    "stat, pvalue = f_oneway(data['Administration'],data['Marketing Spend'])\n",
    "if pvalue <= 0.05:\n",
    "    print(\"Alternate Hypothesis passed. Administration & Marketing Spend are DIFFERENT\")\n",
    "else:\n",
    "    print(\"Null hypothesis passed. Administration & Marketing Spend are NOT DIFFERENT\")"
   ]
  },
  {
   "cell_type": "markdown",
   "metadata": {},
   "source": [
    "# Non Parametric test\n",
    "Applicable for Non-gaussian Data. Helps me to identify whether the given two FEATURE columns are Statistically Similar columns or not. If they are similar, we have a scope to eliminate one of the column"
   ]
  },
  {
   "cell_type": "code",
   "execution_count": null,
   "metadata": {},
   "outputs": [],
   "source": [
    "# 50_Startups \n",
    "# Feature: R&D Spend, Administration, Marketing Spend --- All columns are not having normal distribution\n",
    "# Label: Profit\n",
    "# \n",
    "# To understand do we have any scope to eliminate similar features"
   ]
  },
  {
   "cell_type": "code",
   "execution_count": null,
   "metadata": {},
   "outputs": [],
   "source": [
    "#\n",
    "# Question: Is R&D Spend & Administration statistically similar features ?\n",
    "#\n",
    "# Hypoythesis Testing:\n",
    "#\n",
    "# Lets assume my SL is 0.05\n",
    "#\n",
    "# Null Hypothesis:       R&D Spend & Administration are NOT DIFFERENT : if calc_SL > assumed_SL\n",
    "# Alternate Hypothesis:  R&D Spend & Administration are DIFFERENT : if calc_SL <= assumed_SL\n",
    "#\n",
    "#\n",
    "#\n",
    "# To perform the test of above hypothesis, we shall choose any/all of the given algo\n",
    "# 1. Wilcoxon Test\n",
    "# 2. Mann Whitney U test\n",
    "# 3. Kruskal Wallis H test\n",
    "# 4. Friedman test"
   ]
  },
  {
   "cell_type": "code",
   "execution_count": 50,
   "metadata": {},
   "outputs": [
    {
     "name": "stdout",
     "output_type": "stream",
     "text": [
      "Alternate Hypothesis passed. R&D Spend & Administration are DIFFERENT\n"
     ]
    }
   ],
   "source": [
    "# 1. Wilcoxon Test\n",
    "from scipy.stats import wilcoxon\n",
    "stats, pvalue = wilcoxon(data['R&D Spend'],data['Administration'])\n",
    "\n",
    "if pvalue <= 0.05:\n",
    "    print(\"Alternate Hypothesis passed. R&D Spend & Administration are DIFFERENT\")\n",
    "else:\n",
    "    print(\"Null hypothesis passed. R&D Spend & Administration are NOT DIFFERENT\")"
   ]
  },
  {
   "cell_type": "code",
   "execution_count": 51,
   "metadata": {},
   "outputs": [
    {
     "name": "stdout",
     "output_type": "stream",
     "text": [
      "Alternate Hypothesis passed. R&D Spend & Marketing Spend are DIFFERENT\n"
     ]
    }
   ],
   "source": [
    "stat, pvalue = wilcoxon(data['R&D Spend'],data['Marketing Spend'])\n",
    "if pvalue <= 0.05:\n",
    "    print(\"Alternate Hypothesis passed. R&D Spend & Marketing Spend are DIFFERENT\")\n",
    "else:\n",
    "    print(\"Null hypothesis passed. R&D Spend & Marketing Spend are NOT DIFFERENT\")"
   ]
  },
  {
   "cell_type": "code",
   "execution_count": 52,
   "metadata": {},
   "outputs": [
    {
     "name": "stdout",
     "output_type": "stream",
     "text": [
      "Alternate Hypothesis passed. Administration & Marketing Spend are DIFFERENT\n"
     ]
    }
   ],
   "source": [
    "stat, pvalue = wilcoxon(data['Administration'],data['Marketing Spend'])\n",
    "if pvalue <= 0.05:\n",
    "    print(\"Alternate Hypothesis passed. Administration & Marketing Spend are DIFFERENT\")\n",
    "else:\n",
    "    print(\"Null hypothesis passed. Administration & Marketing Spend are NOT DIFFERENT\")"
   ]
  },
  {
   "cell_type": "code",
   "execution_count": 53,
   "metadata": {},
   "outputs": [
    {
     "name": "stdout",
     "output_type": "stream",
     "text": [
      "Alternate Hypothesis passed. R&D Spend & Administration are DIFFERENT\n"
     ]
    }
   ],
   "source": [
    "# 2. Mann Whitney U test\n",
    "from scipy.stats import mannwhitneyu\n",
    "stats, pvalue = mannwhitneyu(data['R&D Spend'],data['Administration'])\n",
    "\n",
    "if pvalue <= 0.05:\n",
    "    print(\"Alternate Hypothesis passed. R&D Spend & Administration are DIFFERENT\")\n",
    "else:\n",
    "    print(\"Null hypothesis passed. R&D Spend & Administration are NOT DIFFERENT\")"
   ]
  },
  {
   "cell_type": "code",
   "execution_count": 54,
   "metadata": {},
   "outputs": [
    {
     "name": "stdout",
     "output_type": "stream",
     "text": [
      "Alternate Hypothesis passed. R&D Spend & Marketing Spend are DIFFERENT\n"
     ]
    }
   ],
   "source": [
    "stat, pvalue = mannwhitneyu(data['R&D Spend'],data['Marketing Spend'])\n",
    "if pvalue <= 0.05:\n",
    "    print(\"Alternate Hypothesis passed. R&D Spend & Marketing Spend are DIFFERENT\")\n",
    "else:\n",
    "    print(\"Null hypothesis passed. R&D Spend & Marketing Spend are NOT DIFFERENT\")"
   ]
  },
  {
   "cell_type": "code",
   "execution_count": 55,
   "metadata": {},
   "outputs": [
    {
     "name": "stdout",
     "output_type": "stream",
     "text": [
      "Alternate Hypothesis passed. Administration & Marketing Spend are DIFFERENT\n"
     ]
    }
   ],
   "source": [
    "stat, pvalue = mannwhitneyu(data['Administration'],data['Marketing Spend'])\n",
    "if pvalue <= 0.05:\n",
    "    print(\"Alternate Hypothesis passed. Administration & Marketing Spend are DIFFERENT\")\n",
    "else:\n",
    "    print(\"Null hypothesis passed. Administration & Marketing Spend are NOT DIFFERENT\")"
   ]
  },
  {
   "cell_type": "code",
   "execution_count": 56,
   "metadata": {},
   "outputs": [
    {
     "name": "stdout",
     "output_type": "stream",
     "text": [
      "Alternate Hypothesis passed. R&D Spend & Administration are DIFFERENT\n"
     ]
    }
   ],
   "source": [
    "# 3. Kruskal Wallis H test\n",
    "from scipy.stats import kruskal\n",
    "stats, pvalue = kruskal(data['R&D Spend'],data['Administration'])\n",
    "\n",
    "if pvalue <= 0.05:\n",
    "    print(\"Alternate Hypothesis passed. R&D Spend & Administration are DIFFERENT\")\n",
    "else:\n",
    "    print(\"Null hypothesis passed. R&D Spend & Administration are NOT DIFFERENT\")"
   ]
  },
  {
   "cell_type": "code",
   "execution_count": 57,
   "metadata": {},
   "outputs": [
    {
     "name": "stdout",
     "output_type": "stream",
     "text": [
      "Alternate Hypothesis passed. R&D Spend & Marketing Spend are DIFFERENT\n"
     ]
    }
   ],
   "source": [
    "stat, pvalue = kruskal(data['R&D Spend'],data['Marketing Spend'])\n",
    "if pvalue <= 0.05:\n",
    "    print(\"Alternate Hypothesis passed. R&D Spend & Marketing Spend are DIFFERENT\")\n",
    "else:\n",
    "    print(\"Null hypothesis passed. R&D Spend & Marketing Spend are NOT DIFFERENT\")"
   ]
  },
  {
   "cell_type": "code",
   "execution_count": 58,
   "metadata": {},
   "outputs": [
    {
     "name": "stdout",
     "output_type": "stream",
     "text": [
      "Alternate Hypothesis passed. Administration & Marketing Spend are DIFFERENT\n"
     ]
    }
   ],
   "source": [
    "stat, pvalue = kruskal(data['Administration'],data['Marketing Spend'])\n",
    "if pvalue <= 0.05:\n",
    "    print(\"Alternate Hypothesis passed. Administration & Marketing Spend are DIFFERENT\")\n",
    "else:\n",
    "    print(\"Null hypothesis passed. Administration & Marketing Spend are NOT DIFFERENT\")"
   ]
  },
  {
   "cell_type": "code",
   "execution_count": 59,
   "metadata": {},
   "outputs": [
    {
     "name": "stdout",
     "output_type": "stream",
     "text": [
      "Alternate Hypothesis passed. R&D Spend & Administration & Marketing Spend are DIFFERENT\n"
     ]
    }
   ],
   "source": [
    "#4. Friedman test -- For more than 2 columns check\n",
    "from scipy.stats import friedmanchisquare\n",
    "stats, pvalue = friedmanchisquare(data['R&D Spend'],data['Administration'], data['Marketing Spend'])\n",
    "\n",
    "if pvalue <= 0.05:\n",
    "    print(\"Alternate Hypothesis passed. R&D Spend & Administration & Marketing Spend are DIFFERENT\")\n",
    "else:\n",
    "    print(\"Null hypothesis passed. R&D Spend & Administration  & Marketing Spend  are NOT DIFFERENT\")"
   ]
  },
  {
   "cell_type": "markdown",
   "metadata": {},
   "source": [
    "# Chi-square Test\n",
    "Chi-square test defines whether the two variables(One Feature and One Label) have any kind of relationship or not. We need to use Chi-square when one of the situation arises:\n",
    "\n",
    "    1.Feature (Categorical) and Label (Numerical)\n",
    "    2.Feature (Numerical) and Label (Categorical)\n",
    "    3.Feature (Categorical) and Label (Categorical)"
   ]
  },
  {
   "cell_type": "code",
   "execution_count": 60,
   "metadata": {},
   "outputs": [
    {
     "data": {
      "text/html": [
       "<div>\n",
       "<style scoped>\n",
       "    .dataframe tbody tr th:only-of-type {\n",
       "        vertical-align: middle;\n",
       "    }\n",
       "\n",
       "    .dataframe tbody tr th {\n",
       "        vertical-align: top;\n",
       "    }\n",
       "\n",
       "    .dataframe thead th {\n",
       "        text-align: right;\n",
       "    }\n",
       "</style>\n",
       "<table border=\"1\" class=\"dataframe\">\n",
       "  <thead>\n",
       "    <tr style=\"text-align: right;\">\n",
       "      <th>Profit</th>\n",
       "      <th>14681.40</th>\n",
       "      <th>35673.41</th>\n",
       "      <th>42559.73</th>\n",
       "      <th>49490.75</th>\n",
       "      <th>64926.08</th>\n",
       "      <th>65200.33</th>\n",
       "      <th>69758.98</th>\n",
       "      <th>71498.49</th>\n",
       "      <th>77798.83</th>\n",
       "      <th>78239.91</th>\n",
       "      <th>...</th>\n",
       "      <th>149759.96</th>\n",
       "      <th>152211.77</th>\n",
       "      <th>155752.60</th>\n",
       "      <th>156122.51</th>\n",
       "      <th>156991.12</th>\n",
       "      <th>166187.94</th>\n",
       "      <th>182901.99</th>\n",
       "      <th>191050.39</th>\n",
       "      <th>191792.06</th>\n",
       "      <th>192261.83</th>\n",
       "    </tr>\n",
       "    <tr>\n",
       "      <th>State</th>\n",
       "      <th></th>\n",
       "      <th></th>\n",
       "      <th></th>\n",
       "      <th></th>\n",
       "      <th></th>\n",
       "      <th></th>\n",
       "      <th></th>\n",
       "      <th></th>\n",
       "      <th></th>\n",
       "      <th></th>\n",
       "      <th></th>\n",
       "      <th></th>\n",
       "      <th></th>\n",
       "      <th></th>\n",
       "      <th></th>\n",
       "      <th></th>\n",
       "      <th></th>\n",
       "      <th></th>\n",
       "      <th></th>\n",
       "      <th></th>\n",
       "      <th></th>\n",
       "    </tr>\n",
       "  </thead>\n",
       "  <tbody>\n",
       "    <tr>\n",
       "      <th>California</th>\n",
       "      <td>1</td>\n",
       "      <td>0</td>\n",
       "      <td>1</td>\n",
       "      <td>0</td>\n",
       "      <td>0</td>\n",
       "      <td>1</td>\n",
       "      <td>0</td>\n",
       "      <td>1</td>\n",
       "      <td>0</td>\n",
       "      <td>1</td>\n",
       "      <td>...</td>\n",
       "      <td>1</td>\n",
       "      <td>0</td>\n",
       "      <td>0</td>\n",
       "      <td>1</td>\n",
       "      <td>0</td>\n",
       "      <td>0</td>\n",
       "      <td>0</td>\n",
       "      <td>0</td>\n",
       "      <td>1</td>\n",
       "      <td>0</td>\n",
       "    </tr>\n",
       "    <tr>\n",
       "      <th>Florida</th>\n",
       "      <td>0</td>\n",
       "      <td>0</td>\n",
       "      <td>0</td>\n",
       "      <td>1</td>\n",
       "      <td>0</td>\n",
       "      <td>0</td>\n",
       "      <td>0</td>\n",
       "      <td>0</td>\n",
       "      <td>1</td>\n",
       "      <td>0</td>\n",
       "      <td>...</td>\n",
       "      <td>0</td>\n",
       "      <td>0</td>\n",
       "      <td>1</td>\n",
       "      <td>0</td>\n",
       "      <td>0</td>\n",
       "      <td>1</td>\n",
       "      <td>0</td>\n",
       "      <td>1</td>\n",
       "      <td>0</td>\n",
       "      <td>0</td>\n",
       "    </tr>\n",
       "    <tr>\n",
       "      <th>New York</th>\n",
       "      <td>0</td>\n",
       "      <td>1</td>\n",
       "      <td>0</td>\n",
       "      <td>0</td>\n",
       "      <td>1</td>\n",
       "      <td>0</td>\n",
       "      <td>1</td>\n",
       "      <td>0</td>\n",
       "      <td>0</td>\n",
       "      <td>0</td>\n",
       "      <td>...</td>\n",
       "      <td>0</td>\n",
       "      <td>1</td>\n",
       "      <td>0</td>\n",
       "      <td>0</td>\n",
       "      <td>1</td>\n",
       "      <td>0</td>\n",
       "      <td>1</td>\n",
       "      <td>0</td>\n",
       "      <td>0</td>\n",
       "      <td>1</td>\n",
       "    </tr>\n",
       "  </tbody>\n",
       "</table>\n",
       "<p>3 rows × 50 columns</p>\n",
       "</div>"
      ],
      "text/plain": [
       "Profit      14681.40   35673.41   42559.73   49490.75   64926.08   65200.33   \\\n",
       "State                                                                          \n",
       "California          1          0          1          0          0          1   \n",
       "Florida             0          0          0          1          0          0   \n",
       "New York            0          1          0          0          1          0   \n",
       "\n",
       "Profit      69758.98   71498.49   77798.83   78239.91   ...  149759.96  \\\n",
       "State                                                   ...              \n",
       "California          0          1          0          1  ...          1   \n",
       "Florida             0          0          1          0  ...          0   \n",
       "New York            1          0          0          0  ...          0   \n",
       "\n",
       "Profit      152211.77  155752.60  156122.51  156991.12  166187.94  182901.99  \\\n",
       "State                                                                          \n",
       "California          0          0          1          0          0          0   \n",
       "Florida             0          1          0          0          1          0   \n",
       "New York            1          0          0          1          0          1   \n",
       "\n",
       "Profit      191050.39  191792.06  192261.83  \n",
       "State                                        \n",
       "California          0          1          0  \n",
       "Florida             1          0          0  \n",
       "New York            0          0          1  \n",
       "\n",
       "[3 rows x 50 columns]"
      ]
     },
     "execution_count": 60,
     "metadata": {},
     "output_type": "execute_result"
    }
   ],
   "source": [
    "# To implement CHi-square you need to ensure to create Contigency Table\n",
    "ct = pd.crosstab(data['State'],data['Profit'])\n",
    "ct"
   ]
  },
  {
   "cell_type": "code",
   "execution_count": null,
   "metadata": {},
   "outputs": [],
   "source": [
    "# data repersentable that Contigency.\n",
    "# this table has evey city uniquq profits that are here 50"
   ]
  },
  {
   "cell_type": "code",
   "execution_count": 61,
   "metadata": {},
   "outputs": [
    {
     "name": "stdout",
     "output_type": "stream",
     "text": [
      "Null hypothesis passed. State and Profit doesnot have  Relationship\n"
     ]
    }
   ],
   "source": [
    "from scipy.stats import chi2_contingency\n",
    "stat,pvalue,dof,expected_R = chi2_contingency(ct)\n",
    "\n",
    "if pvalue <= 0.05:\n",
    "    print(\"Alternate Hypothesis passed. State and Profit have Relationship\")\n",
    "else:\n",
    "    print(\"Null hypothesis passed. State and Profit doesnot have  Relationship\")\n"
   ]
  },
  {
   "cell_type": "code",
   "execution_count": null,
   "metadata": {},
   "outputs": [],
   "source": []
  }
 ],
 "metadata": {
  "kernelspec": {
   "display_name": "Python 3",
   "language": "python",
   "name": "python3"
  },
  "language_info": {
   "codemirror_mode": {
    "name": "ipython",
    "version": 3
   },
   "file_extension": ".py",
   "mimetype": "text/x-python",
   "name": "python",
   "nbconvert_exporter": "python",
   "pygments_lexer": "ipython3",
   "version": "3.7.6"
  }
 },
 "nbformat": 4,
 "nbformat_minor": 4
}
