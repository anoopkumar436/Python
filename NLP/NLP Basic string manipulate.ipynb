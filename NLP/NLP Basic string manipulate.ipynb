{
 "cells": [
  {
   "cell_type": "code",
   "execution_count": null,
   "metadata": {},
   "outputs": [],
   "source": [
    "# here we learning basic NLP with string Manipulation."
   ]
  },
  {
   "cell_type": "code",
   "execution_count": 1,
   "metadata": {},
   "outputs": [],
   "source": [
    "# this is our data variable that store some string for NLP.\n",
    "data = \"Welcome to Simplilearn. You are learning NLP! Enjoy the Subject!\""
   ]
  },
  {
   "cell_type": "code",
   "execution_count": 2,
   "metadata": {},
   "outputs": [],
   "source": [
    "# here we import string libarary for remove punctuation(special) words\n",
    "# like ===== '!\"#$%&\\'()*+,-./:;<=>?@[\\\\]^_`{|}~' =============\n",
    "import string"
   ]
  },
  {
   "cell_type": "code",
   "execution_count": 3,
   "metadata": {},
   "outputs": [
    {
     "data": {
      "text/plain": [
       "'!\"#$%&\\'()*+,-./:;<=>?@[\\\\]^_`{|}~'"
      ]
     },
     "execution_count": 3,
     "metadata": {},
     "output_type": "execute_result"
    }
   ],
   "source": [
    "# here we getting punctuation characters.\n",
    "string.punctuation"
   ]
  },
  {
   "cell_type": "code",
   "execution_count": 9,
   "metadata": {},
   "outputs": [
    {
     "data": {
      "text/plain": [
       "'Welcome to Simplilearn You are learning NLP Enjoy the Subject'"
      ]
     },
     "execution_count": 9,
     "metadata": {},
     "output_type": "execute_result"
    }
   ],
   "source": [
    "# by using for loop and blank list we try to remove all punctuation characters.\n",
    "#================================================================================\n",
    "# 1. \"FinalOutPut\" variablr using for store or collect all characters without colltecting punctuation characters.\n",
    "# 2. \"if condition\" using as filter that filtering punctuation charaters.\n",
    "#       2.1. by using \"string.punctuation\" we are able to filtering punctuation charaters.\n",
    "#       2.2  by using append function with \"FinalOutPut\" valriable we are able to store character in FinalOutPut variable. \n",
    "# 4.  here by using join function \" ''.join(FinalOutPut)\" we create a sentance.\n",
    "FinalOutPut = []\n",
    "for character in data:\n",
    "    if character not in string.punctuation:\n",
    "        FinalOutPut.append(character)\n",
    "sentance = ''.join(FinalOutPut)\n",
    "sentance"
   ]
  },
  {
   "cell_type": "code",
   "execution_count": 16,
   "metadata": {},
   "outputs": [
    {
     "data": {
      "text/plain": [
       "'Welcome to Simplilearn You are learning NLP Enjoy the Subject'"
      ]
     },
     "execution_count": 16,
     "metadata": {},
     "output_type": "execute_result"
    }
   ],
   "source": [
    "# here we can do same thing that we did \" In [9]\" call.\n",
    "removepunctuation = [character for character in data if character not in string.punctuation]\n",
    "sentance2 =  ''.join(removepunctuation)\n",
    "sentance2"
   ]
  },
  {
   "cell_type": "code",
   "execution_count": 11,
   "metadata": {},
   "outputs": [
    {
     "data": {
      "text/plain": [
       "['Welcome',\n",
       " 'to',\n",
       " 'Simplilearn',\n",
       " 'You',\n",
       " 'are',\n",
       " 'learning',\n",
       " 'NLP',\n",
       " 'Enjoy',\n",
       " 'the',\n",
       " 'Subject']"
      ]
     },
     "execution_count": 11,
     "metadata": {},
     "output_type": "execute_result"
    }
   ],
   "source": [
    "# here we will split sentance for features creation.\n",
    "words = sentance.split()\n",
    "words"
   ]
  },
  {
   "cell_type": "code",
   "execution_count": 17,
   "metadata": {},
   "outputs": [],
   "source": [
    "#Stop words --- those words which do not add any weightage in the sentences.\n",
    "# here we import nltk liberary for remove stopwords. \n",
    "import nltk\n",
    "# Install NLTK if import fails using the command\n",
    "# pip install nltk"
   ]
  },
  {
   "cell_type": "code",
   "execution_count": 18,
   "metadata": {},
   "outputs": [
    {
     "name": "stdout",
     "output_type": "stream",
     "text": [
      "showing info https://raw.githubusercontent.com/nltk/nltk_data/gh-pages/index.xml\n"
     ]
    },
    {
     "data": {
      "text/plain": [
       "True"
      ]
     },
     "execution_count": 18,
     "metadata": {},
     "output_type": "execute_result"
    }
   ],
   "source": [
    "# when your run this cell than it will take some for install some packages.\n",
    "nltk.download()"
   ]
  },
  {
   "cell_type": "code",
   "execution_count": 19,
   "metadata": {},
   "outputs": [
    {
     "data": {
      "text/plain": [
       "['Welcome', 'Simplilearn', 'You', 'learning', 'NLP', 'Enjoy', 'Subject']"
      ]
     },
     "execution_count": 19,
     "metadata": {},
     "output_type": "execute_result"
    }
   ],
   "source": [
    "\n",
    "from nltk.corpus import stopwords\n",
    "removeStopwords = [ word for word in words if word not in stopwords.words('english')]\n",
    "removeStopwords"
   ]
  },
  {
   "cell_type": "code",
   "execution_count": 20,
   "metadata": {},
   "outputs": [],
   "source": [
    "import string\n",
    "from nltk.corpus import stopwords\n",
    "def textPreprocessing(data):\n",
    "    removePunctuation = [ char for char in data if char not in string.punctuation ]\n",
    "    sentences = ''.join(removePunctuation)\n",
    "    words = sentences.split()\n",
    "    removeStopwords = [ word for word in words if word not in stopwords.words('english')]\n",
    "    return removeStopwords"
   ]
  },
  {
   "cell_type": "code",
   "execution_count": 21,
   "metadata": {},
   "outputs": [
    {
     "data": {
      "text/plain": [
       "['Hello', 'My', 'name', 'Prashant']"
      ]
     },
     "execution_count": 21,
     "metadata": {},
     "output_type": "execute_result"
    }
   ],
   "source": [
    "textPreprocessing(\"Hello! My name is Anoop kumar\")"
   ]
  },
  {
   "cell_type": "code",
   "execution_count": null,
   "metadata": {},
   "outputs": [],
   "source": []
  }
 ],
 "metadata": {
  "kernelspec": {
   "display_name": "Python 3",
   "language": "python",
   "name": "python3"
  },
  "language_info": {
   "codemirror_mode": {
    "name": "ipython",
    "version": 3
   },
   "file_extension": ".py",
   "mimetype": "text/x-python",
   "name": "python",
   "nbconvert_exporter": "python",
   "pygments_lexer": "ipython3",
   "version": "3.7.6"
  }
 },
 "nbformat": 4,
 "nbformat_minor": 4
}
