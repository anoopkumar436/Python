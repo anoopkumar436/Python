{
 "cells": [
  {
   "cell_type": "markdown",
   "metadata": {},
   "source": [
    "\n",
    "# variable"
   ]
  },
  {
   "cell_type": "code",
   "execution_count": 1,
   "metadata": {},
   "outputs": [],
   "source": [
    "a = 10"
   ]
  },
  {
   "cell_type": "code",
   "execution_count": 2,
   "metadata": {},
   "outputs": [
    {
     "data": {
      "text/plain": [
       "10"
      ]
     },
     "execution_count": 2,
     "metadata": {},
     "output_type": "execute_result"
    }
   ],
   "source": [
    "a"
   ]
  },
  {
   "cell_type": "code",
   "execution_count": 3,
   "metadata": {},
   "outputs": [
    {
     "data": {
      "text/plain": [
       "int"
      ]
     },
     "execution_count": 3,
     "metadata": {},
     "output_type": "execute_result"
    }
   ],
   "source": [
    "type(a)"
   ]
  },
  {
   "cell_type": "code",
   "execution_count": 4,
   "metadata": {},
   "outputs": [],
   "source": [
    "b = \"anoop \""
   ]
  },
  {
   "cell_type": "code",
   "execution_count": 5,
   "metadata": {},
   "outputs": [
    {
     "data": {
      "text/plain": [
       "'anoop '"
      ]
     },
     "execution_count": 5,
     "metadata": {},
     "output_type": "execute_result"
    }
   ],
   "source": [
    "b"
   ]
  },
  {
   "cell_type": "code",
   "execution_count": 6,
   "metadata": {},
   "outputs": [
    {
     "data": {
      "text/plain": [
       "str"
      ]
     },
     "execution_count": 6,
     "metadata": {},
     "output_type": "execute_result"
    }
   ],
   "source": [
    "type(b)"
   ]
  },
  {
   "cell_type": "code",
   "execution_count": 7,
   "metadata": {},
   "outputs": [],
   "source": [
    "c = 2.3"
   ]
  },
  {
   "cell_type": "code",
   "execution_count": 8,
   "metadata": {},
   "outputs": [
    {
     "data": {
      "text/plain": [
       "2.3"
      ]
     },
     "execution_count": 8,
     "metadata": {},
     "output_type": "execute_result"
    }
   ],
   "source": [
    "c"
   ]
  },
  {
   "cell_type": "code",
   "execution_count": 9,
   "metadata": {},
   "outputs": [
    {
     "data": {
      "text/plain": [
       "float"
      ]
     },
     "execution_count": 9,
     "metadata": {},
     "output_type": "execute_result"
    }
   ],
   "source": [
    "type(c)"
   ]
  },
  {
   "cell_type": "code",
   "execution_count": 10,
   "metadata": {},
   "outputs": [
    {
     "data": {
      "text/plain": [
       "True"
      ]
     },
     "execution_count": 10,
     "metadata": {},
     "output_type": "execute_result"
    }
   ],
   "source": [
    "d = True\n",
    "d"
   ]
  },
  {
   "cell_type": "code",
   "execution_count": 11,
   "metadata": {},
   "outputs": [
    {
     "data": {
      "text/plain": [
       "bool"
      ]
     },
     "execution_count": 11,
     "metadata": {},
     "output_type": "execute_result"
    }
   ],
   "source": [
    "type(d)"
   ]
  },
  {
   "cell_type": "code",
   "execution_count": 12,
   "metadata": {},
   "outputs": [
    {
     "data": {
      "text/plain": [
       "' I am anoop '"
      ]
     },
     "execution_count": 12,
     "metadata": {},
     "output_type": "execute_result"
    }
   ],
   "source": [
    "e = \" I am anoop \"\n",
    "e"
   ]
  },
  {
   "cell_type": "code",
   "execution_count": 13,
   "metadata": {},
   "outputs": [
    {
     "data": {
      "text/plain": [
       "str"
      ]
     },
     "execution_count": 13,
     "metadata": {},
     "output_type": "execute_result"
    }
   ],
   "source": [
    "type(e)"
   ]
  },
  {
   "cell_type": "code",
   "execution_count": 14,
   "metadata": {},
   "outputs": [
    {
     "name": "stdout",
     "output_type": "stream",
     "text": [
      " I am anoop \n",
      "        and data scientist \n"
     ]
    }
   ],
   "source": [
    "f=''' I am anoop \n",
    "        and data scientist '''\n",
    "print(f)"
   ]
  },
  {
   "cell_type": "code",
   "execution_count": 15,
   "metadata": {},
   "outputs": [],
   "source": [
    "sample ='''\n",
    "Twinkle, twinkle, little star, \n",
    "       How I wonder what you are! \n",
    "                Up above the world so high, \n",
    "                Like a diamond in the sky.\n",
    "                \n",
    "                \n",
    "Twinkle, twinkle, little star, \n",
    "        How I wonder what you are'''"
   ]
  },
  {
   "cell_type": "code",
   "execution_count": 16,
   "metadata": {},
   "outputs": [
    {
     "name": "stdout",
     "output_type": "stream",
     "text": [
      "\n",
      "Twinkle, twinkle, little star, \n",
      "       How I wonder what you are! \n",
      "                Up above the world so high, \n",
      "                Like a diamond in the sky.\n",
      "                \n",
      "                \n",
      "Twinkle, twinkle, little star, \n",
      "        How I wonder what you are\n"
     ]
    }
   ],
   "source": [
    "print(sample)"
   ]
  },
  {
   "cell_type": "code",
   "execution_count": 17,
   "metadata": {},
   "outputs": [
    {
     "name": "stdout",
     "output_type": "stream",
     "text": [
      "this is x value = 5\n",
      "this is y value = Jhon\n",
      "this is x value = 4\n"
     ]
    }
   ],
   "source": [
    "x = 5\n",
    "y = \"Jhon\"\n",
    "print(\"this is x value =\",x)\n",
    "print(\"this is y value =\",y)\n",
    "x = 4\n",
    "print(\"this is x value =\",x)"
   ]
  },
  {
   "cell_type": "code",
   "execution_count": 18,
   "metadata": {},
   "outputs": [
    {
     "name": "stdout",
     "output_type": "stream",
     "text": [
      " this is x value =  3 and this is data type =  <class 'str'>\n",
      " this is x value =   3  and this is data type =  <class 'int'>\n",
      " this is x value =   3.0  and this is data type =  <class 'float'>\n"
     ]
    }
   ],
   "source": [
    "x = str(3)\n",
    "print(\" this is x value =  \"+x+ \" and this is data type = \",type(x))\n",
    "y = int(3)\n",
    "print(\" this is x value =  \",y, \" and this is data type = \",type(y))\n",
    "z = float(3)\n",
    "print(\" this is x value =  \",z, \" and this is data type = \",type(z))\n"
   ]
  },
  {
   "cell_type": "code",
   "execution_count": 19,
   "metadata": {},
   "outputs": [
    {
     "name": "stdout",
     "output_type": "stream",
     "text": [
      "Orange Banana Cherry\n"
     ]
    }
   ],
   "source": [
    "x, y, z = \"Orange \", \"Banana \", \"Cherry\"\n",
    "print(x + y + z)"
   ]
  },
  {
   "cell_type": "code",
   "execution_count": 20,
   "metadata": {},
   "outputs": [
    {
     "name": "stdout",
     "output_type": "stream",
     "text": [
      "Orange Orange Orange \n"
     ]
    }
   ],
   "source": [
    "x=y=z=\"Orange \"\n",
    "print(x+y+z)"
   ]
  },
  {
   "cell_type": "code",
   "execution_count": 21,
   "metadata": {
    "scrolled": true
   },
   "outputs": [
    {
     "name": "stdout",
     "output_type": "stream",
     "text": [
      "apple banana cherry\n"
     ]
    }
   ],
   "source": [
    "fruits = [\"apple \",\"banana \",\"cherry\"]\n",
    "a,b,c = fruits\n",
    "print(a+b+c)"
   ]
  },
  {
   "cell_type": "code",
   "execution_count": 22,
   "metadata": {},
   "outputs": [
    {
     "name": "stdout",
     "output_type": "stream",
     "text": [
      "['apple ', 'banana ', 'cherry', 'apple ', 'banana ', 'cherry', 'apple ', 'banana ', 'cherry']\n",
      "['apple ', 'banana ', 'cherry', 'apple ', 'banana ', 'cherry', 'apple ', 'banana ', 'cherry']\n"
     ]
    }
   ],
   "source": [
    "fruits = [\"apple \",\"banana \",\"cherry\"]\n",
    "a=b=c = fruits\n",
    "print(a+b+c)\n",
    "k = a+b+c\n",
    "print(k)"
   ]
  },
  {
   "cell_type": "code",
   "execution_count": 23,
   "metadata": {},
   "outputs": [
    {
     "name": "stdout",
     "output_type": "stream",
     "text": [
      "5John\n"
     ]
    }
   ],
   "source": [
    "x = str(5)\n",
    "y = \"John\"\n",
    "print(x + y)"
   ]
  },
  {
   "cell_type": "code",
   "execution_count": 24,
   "metadata": {},
   "outputs": [
    {
     "data": {
      "text/plain": [
       "'Hello World'"
      ]
     },
     "execution_count": 24,
     "metadata": {},
     "output_type": "execute_result"
    }
   ],
   "source": [
    "txt = \" Hello World \"\n",
    "txt.strip()"
   ]
  },
  {
   "cell_type": "code",
   "execution_count": 25,
   "metadata": {},
   "outputs": [
    {
     "data": {
      "text/plain": [
       "'Python is awesome'"
      ]
     },
     "execution_count": 25,
     "metadata": {},
     "output_type": "execute_result"
    }
   ],
   "source": [
    "x = \"Python is \"\n",
    "y = \"awesome\"\n",
    "z =  x + y\n",
    "z"
   ]
  },
  {
   "cell_type": "code",
   "execution_count": 26,
   "metadata": {},
   "outputs": [
    {
     "name": "stdout",
     "output_type": "stream",
     "text": [
      "15\n"
     ]
    }
   ],
   "source": [
    "x = 5\n",
    "y = 10\n",
    "print(x + y)"
   ]
  },
  {
   "cell_type": "code",
   "execution_count": 27,
   "metadata": {},
   "outputs": [
    {
     "name": "stdout",
     "output_type": "stream",
     "text": [
      "<class 'complex'>\n",
      "3j\n"
     ]
    }
   ],
   "source": [
    "c = 3j\n",
    "print(type(c))\n",
    "print(c)"
   ]
  },
  {
   "cell_type": "code",
   "execution_count": 28,
   "metadata": {},
   "outputs": [
    {
     "data": {
      "text/plain": [
       "range(0, 6)"
      ]
     },
     "execution_count": 28,
     "metadata": {},
     "output_type": "execute_result"
    }
   ],
   "source": [
    "x = range(6)\n",
    "x"
   ]
  },
  {
   "cell_type": "code",
   "execution_count": 29,
   "metadata": {},
   "outputs": [
    {
     "data": {
      "text/plain": [
       "frozenset({'apple', 'banana', 'cherry'})"
      ]
     },
     "execution_count": 29,
     "metadata": {},
     "output_type": "execute_result"
    }
   ],
   "source": [
    "x = frozenset({\"apple\", \"banana\", \"cherry\"})\n",
    "x"
   ]
  },
  {
   "cell_type": "code",
   "execution_count": 30,
   "metadata": {},
   "outputs": [
    {
     "data": {
      "text/plain": [
       "b'Hello'"
      ]
     },
     "execution_count": 30,
     "metadata": {},
     "output_type": "execute_result"
    }
   ],
   "source": [
    "x = b\"Hello\"\n",
    "x"
   ]
  },
  {
   "cell_type": "code",
   "execution_count": 31,
   "metadata": {},
   "outputs": [
    {
     "data": {
      "text/plain": [
       "bytearray(b'\\x00\\x00')"
      ]
     },
     "execution_count": 31,
     "metadata": {},
     "output_type": "execute_result"
    }
   ],
   "source": [
    "x = bytearray(2)\n",
    "x"
   ]
  },
  {
   "cell_type": "code",
   "execution_count": 32,
   "metadata": {},
   "outputs": [
    {
     "name": "stdout",
     "output_type": "stream",
     "text": [
      "<memory at 0x000001FD4A7F91C8> <memory at 0x000001FD4A7F9288>\n"
     ]
    }
   ],
   "source": [
    "x,y = memoryview(bytes(5)),memoryview(bytes(1))\n",
    "print(x , y)"
   ]
  },
  {
   "cell_type": "code",
   "execution_count": 33,
   "metadata": {},
   "outputs": [
    {
     "name": "stdout",
     "output_type": "stream",
     "text": [
      "Enter your Name :anoop\n",
      "you had Enter your name is : anoop\n"
     ]
    }
   ],
   "source": [
    "name = input(\"Enter your Name :\")\n",
    "print(\"you had Enter your name is : \"+name)    "
   ]
  },
  {
   "cell_type": "code",
   "execution_count": 36,
   "metadata": {},
   "outputs": [
    {
     "name": "stdout",
     "output_type": "stream",
     "text": [
      "Enter first number 23\n",
      "Enter second number 34\n",
      "number first is : 23  number second is : 34  total :  57\n"
     ]
    }
   ],
   "source": [
    "num1 = int(input(\"Enter first number \"))\n",
    "num2 = int(input(\"Enter second number \"))\n",
    "add = num1 + num2\n",
    "print(\"number first is :\", num1 ,\" number second is :\", num2 ,\" total : \", add)"
   ]
  },
  {
   "cell_type": "code",
   "execution_count": 37,
   "metadata": {
    "scrolled": true
   },
   "outputs": [
    {
     "name": "stdout",
     "output_type": "stream",
     "text": [
      "Enter first name anoop\n",
      "Enter last name kumar\n",
      "this is first name:anoop this is last name:kumar\n"
     ]
    }
   ],
   "source": [
    "num1 = input(\"Enter first name \")\n",
    "num2 = input(\"Enter last name \")\n",
    "print(\"this is first name:\"+ num1 +\" this is last name:\"+ num2 )"
   ]
  },
  {
   "cell_type": "code",
   "execution_count": 38,
   "metadata": {},
   "outputs": [
    {
     "name": "stdout",
     "output_type": "stream",
     "text": [
      "Enter first name anoop\n",
      "Enter second name kumar\n",
      "Enter last nameashware\n",
      "your first name is anoop and middle name is  kumar and last name is ashware\n",
      "my full name  is anoop kumar ashware\n"
     ]
    }
   ],
   "source": [
    "num1 = input(\"Enter first name \")\n",
    "num2 = input(\"Enter second name \")\n",
    "num3 = input(\"Enter last name\")\n",
    "print(\"your first name is {} and middle name is  {} and last name is {}\".format(num1,num2,num3))\n",
    "print(\"my full name  is {} {} {}\".format(num1,num2,num3))"
   ]
  },
  {
   "cell_type": "code",
   "execution_count": 39,
   "metadata": {},
   "outputs": [
    {
     "name": "stdout",
     "output_type": "stream",
     "text": [
      "this is my brithday 1-21-2020\n",
      "this is my brithday 2020-21-1\n",
      "this is my brithday 1-2020-21\n"
     ]
    }
   ],
   "source": [
    "a = 21\n",
    "b = 1\n",
    "c = 2020\n",
    "print(\"this is my brithday {}-{}-{}\".format(b,a,c))\n",
    "print(\"this is my brithday {}-{}-{}\".format(c,a,b))\n",
    "print(\"this is my brithday {}-{}-{}\".format(b,c,a))"
   ]
  },
  {
   "cell_type": "code",
   "execution_count": 40,
   "metadata": {},
   "outputs": [
    {
     "name": "stdout",
     "output_type": "stream",
     "text": [
      "True\n",
      "False\n"
     ]
    }
   ],
   "source": [
    "x = \" \"\n",
    "y = 0\n",
    "\n",
    "print(bool(x))\n",
    "print(bool(y))"
   ]
  },
  {
   "cell_type": "code",
   "execution_count": 41,
   "metadata": {},
   "outputs": [
    {
     "name": "stdout",
     "output_type": "stream",
     "text": [
      "h\n"
     ]
    }
   ],
   "source": [
    "j = \"hello world\"\n",
    "print(j[0])"
   ]
  },
  {
   "cell_type": "code",
   "execution_count": 42,
   "metadata": {},
   "outputs": [
    {
     "name": "stdout",
     "output_type": "stream",
     "text": [
      "h\n",
      "e\n",
      "l\n",
      "l\n",
      "o\n",
      " \n",
      "w\n",
      "o\n",
      "r\n",
      "l\n",
      "d\n"
     ]
    }
   ],
   "source": [
    "for x in j:\n",
    "    print(x)"
   ]
  },
  {
   "cell_type": "code",
   "execution_count": 43,
   "metadata": {},
   "outputs": [
    {
     "name": "stdout",
     "output_type": "stream",
     "text": [
      "11\n"
     ]
    }
   ],
   "source": [
    "print(len(j))"
   ]
  },
  {
   "cell_type": "code",
   "execution_count": 2,
   "metadata": {},
   "outputs": [
    {
     "name": "stdout",
     "output_type": "stream",
     "text": [
      "True\n"
     ]
    }
   ],
   "source": [
    "k = \" the best things is life is free\"\n",
    "\"free\" in k\n",
    "print(\"free\" in k)"
   ]
  },
  {
   "cell_type": "code",
   "execution_count": 3,
   "metadata": {},
   "outputs": [
    {
     "name": "stdout",
     "output_type": "stream",
     "text": [
      " free is present in this sentance!\n"
     ]
    }
   ],
   "source": [
    "if \"free\" in k:\n",
    "    print(\" free is present in this sentance!\")"
   ]
  },
  {
   "cell_type": "code",
   "execution_count": 4,
   "metadata": {},
   "outputs": [
    {
     "name": "stdout",
     "output_type": "stream",
     "text": [
      "False\n"
     ]
    }
   ],
   "source": [
    "print(\"expensive\" in k)"
   ]
  },
  {
   "cell_type": "code",
   "execution_count": 5,
   "metadata": {},
   "outputs": [
    {
     "name": "stdout",
     "output_type": "stream",
     "text": [
      "True,  expensive is not persent in this sentance!\n"
     ]
    }
   ],
   "source": [
    "if \"expensive\" not in k:\n",
    "    print(\"True,  expensive is not persent in this sentance!\")"
   ]
  },
  {
   "cell_type": "markdown",
   "metadata": {},
   "source": [
    "# slicing string"
   ]
  },
  {
   "cell_type": "code",
   "execution_count": 6,
   "metadata": {
    "scrolled": false
   },
   "outputs": [
    {
     "data": {
      "text/plain": [
       "' the best things is life is free'"
      ]
     },
     "execution_count": 6,
     "metadata": {},
     "output_type": "execute_result"
    }
   ],
   "source": [
    "k"
   ]
  },
  {
   "cell_type": "code",
   "execution_count": 49,
   "metadata": {},
   "outputs": [
    {
     "name": "stdout",
     "output_type": "stream",
     "text": [
      "he b\n"
     ]
    }
   ],
   "source": [
    "print(k[2:6])"
   ]
  },
  {
   "cell_type": "code",
   "execution_count": 50,
   "metadata": {},
   "outputs": [
    {
     "name": "stdout",
     "output_type": "stream",
     "text": [
      " the b\n"
     ]
    }
   ],
   "source": [
    "print(k[:6])"
   ]
  },
  {
   "cell_type": "code",
   "execution_count": 51,
   "metadata": {},
   "outputs": [
    {
     "name": "stdout",
     "output_type": "stream",
     "text": [
      "e best things is life is free\n"
     ]
    }
   ],
   "source": [
    "print(k[3:])"
   ]
  },
  {
   "cell_type": "code",
   "execution_count": 52,
   "metadata": {},
   "outputs": [
    {
     "name": "stdout",
     "output_type": "stream",
     "text": [
      " the best things is life is fre\n"
     ]
    }
   ],
   "source": [
    "print(k[:-1])"
   ]
  },
  {
   "cell_type": "code",
   "execution_count": 53,
   "metadata": {
    "scrolled": true
   },
   "outputs": [
    {
     "name": "stdout",
     "output_type": "stream",
     "text": [
      "t things is life is free\n"
     ]
    }
   ],
   "source": [
    "print(k[-24:])"
   ]
  },
  {
   "cell_type": "markdown",
   "metadata": {},
   "source": [
    "# Sting function"
   ]
  },
  {
   "cell_type": "code",
   "execution_count": 54,
   "metadata": {},
   "outputs": [
    {
     "name": "stdout",
     "output_type": "stream",
     "text": [
      " THE BEST THINGS IS LIFE IS FREE\n",
      " the best things is life is free\n"
     ]
    },
    {
     "data": {
      "text/plain": [
       "'the best things is life is free'"
      ]
     },
     "execution_count": 54,
     "metadata": {},
     "output_type": "execute_result"
    }
   ],
   "source": [
    "H = k.upper()\n",
    "print(H)\n",
    "h = H.lower()\n",
    "print(h) \n",
    "k.strip()"
   ]
  },
  {
   "cell_type": "code",
   "execution_count": 55,
   "metadata": {},
   "outputs": [
    {
     "data": {
      "text/plain": [
       "' the best things is liqe is qree'"
      ]
     },
     "execution_count": 55,
     "metadata": {},
     "output_type": "execute_result"
    }
   ],
   "source": [
    "k.replace(\"f\",\"q\")"
   ]
  },
  {
   "cell_type": "code",
   "execution_count": 56,
   "metadata": {},
   "outputs": [
    {
     "name": "stdout",
     "output_type": "stream",
     "text": [
      "['the', 'best', 'things', 'is', 'life', 'is', 'free']\n",
      "<class 'list'>\n"
     ]
    }
   ],
   "source": [
    "t = k.split()\n",
    "print(t)\n",
    "print(type(t))"
   ]
  },
  {
   "cell_type": "markdown",
   "metadata": {},
   "source": [
    "# List"
   ]
  },
  {
   "cell_type": "code",
   "execution_count": 58,
   "metadata": {},
   "outputs": [
    {
     "name": "stdout",
     "output_type": "stream",
     "text": [
      "[1, 2, 3, 4]\n",
      "<class 'list'>\n"
     ]
    }
   ],
   "source": [
    "a = [1,2,3,4]\n",
    "print(a)\n",
    "print(type(a))"
   ]
  },
  {
   "cell_type": "code",
   "execution_count": 59,
   "metadata": {},
   "outputs": [
    {
     "name": "stdout",
     "output_type": "stream",
     "text": [
      "['hello', 3, 4, 5.6, 8.3, 5j, 'Welcome to my world of Data Science', [1, 2, 3]]\n"
     ]
    },
    {
     "data": {
      "text/plain": [
       "<function print>"
      ]
     },
     "execution_count": 59,
     "metadata": {},
     "output_type": "execute_result"
    }
   ],
   "source": [
    "b = ['hello', 3,4 ,5.6, 8.3, 5j, \"Welcome to my world of Data Science\", [1,2,3]]\n",
    "print(b)\n",
    "print"
   ]
  },
  {
   "cell_type": "code",
   "execution_count": 60,
   "metadata": {},
   "outputs": [
    {
     "name": "stdout",
     "output_type": "stream",
     "text": [
      "[3, 2, 5, 72, 21, 68, 23, 5, 73, 256, 22, 56, 90]\n",
      "23\n",
      "256\n",
      "13\n",
      "[21, 68, 23, 5, 73]\n"
     ]
    }
   ],
   "source": [
    "a = [3,2,5,72,21,68,23,5,73,256,22,56,90]\n",
    "print(a)\n",
    "print(a[6])\n",
    "print(a[9])\n",
    "print(len(a))\n",
    "print(a[4:9])"
   ]
  },
  {
   "cell_type": "code",
   "execution_count": 61,
   "metadata": {},
   "outputs": [
    {
     "name": "stdout",
     "output_type": "stream",
     "text": [
      "4\n"
     ]
    }
   ],
   "source": [
    "example1 = [1,2,3,[4,5,6,[7,8,9,[10,11]]]]\n",
    "print(len(example1))"
   ]
  },
  {
   "cell_type": "code",
   "execution_count": 62,
   "metadata": {},
   "outputs": [
    {
     "data": {
      "text/plain": [
       "11"
      ]
     },
     "execution_count": 62,
     "metadata": {},
     "output_type": "execute_result"
    }
   ],
   "source": [
    "example1[3][3][3][1]"
   ]
  },
  {
   "cell_type": "code",
   "execution_count": 63,
   "metadata": {},
   "outputs": [
    {
     "data": {
      "text/plain": [
       "10"
      ]
     },
     "execution_count": 63,
     "metadata": {},
     "output_type": "execute_result"
    }
   ],
   "source": [
    "example1[3][3][3][0]"
   ]
  },
  {
   "cell_type": "code",
   "execution_count": 64,
   "metadata": {},
   "outputs": [],
   "source": [
    "example2=[[1,2,3],['anand',['raghav',[7,8,9,0,['aman',['kumar','joe']]]]]]"
   ]
  },
  {
   "cell_type": "code",
   "execution_count": 65,
   "metadata": {},
   "outputs": [
    {
     "data": {
      "text/plain": [
       "'joe'"
      ]
     },
     "execution_count": 65,
     "metadata": {},
     "output_type": "execute_result"
    }
   ],
   "source": [
    "example2[1][1][1][4][1][1]"
   ]
  },
  {
   "cell_type": "code",
   "execution_count": 66,
   "metadata": {},
   "outputs": [
    {
     "data": {
      "text/plain": [
       "[3, 2, 5, 72, 21, 68, 23, 5, 73, 256, 22, 56, 90]"
      ]
     },
     "execution_count": 66,
     "metadata": {},
     "output_type": "execute_result"
    }
   ],
   "source": [
    "# Modify the elements in the list\n",
    "a = [3,2,5,72,21,68,23,5,73,256,22,56,90]\n",
    "a"
   ]
  },
  {
   "cell_type": "code",
   "execution_count": 67,
   "metadata": {},
   "outputs": [],
   "source": [
    "a[12] ='Prashant' "
   ]
  },
  {
   "cell_type": "code",
   "execution_count": 68,
   "metadata": {},
   "outputs": [
    {
     "data": {
      "text/plain": [
       "[3, 2, 5, 72, 21, 68, 23, 5, 73, 256, 22, 56, 'Prashant']"
      ]
     },
     "execution_count": 68,
     "metadata": {},
     "output_type": "execute_result"
    }
   ],
   "source": [
    "a"
   ]
  },
  {
   "cell_type": "code",
   "execution_count": 69,
   "metadata": {},
   "outputs": [],
   "source": [
    "a[6] =203"
   ]
  },
  {
   "cell_type": "code",
   "execution_count": 70,
   "metadata": {},
   "outputs": [
    {
     "data": {
      "text/plain": [
       "[3, 2, 5, 72, 21, 68, 203, 5, 73, 256, 22, 56, 'Prashant']"
      ]
     },
     "execution_count": 70,
     "metadata": {},
     "output_type": "execute_result"
    }
   ],
   "source": [
    "a"
   ]
  },
  {
   "cell_type": "code",
   "execution_count": 71,
   "metadata": {},
   "outputs": [],
   "source": [
    "a[2] = 'Nikit'"
   ]
  },
  {
   "cell_type": "code",
   "execution_count": 72,
   "metadata": {},
   "outputs": [
    {
     "data": {
      "text/plain": [
       "[3, 2, 'Nikit', 72, 21, 68, 203, 5, 73, 256, 22, 56, 'Prashant']"
      ]
     },
     "execution_count": 72,
     "metadata": {},
     "output_type": "execute_result"
    }
   ],
   "source": [
    "a"
   ]
  },
  {
   "cell_type": "code",
   "execution_count": 73,
   "metadata": {},
   "outputs": [
    {
     "name": "stdout",
     "output_type": "stream",
     "text": [
      "True\n",
      "False\n"
     ]
    }
   ],
   "source": [
    "print(73 in a)\n",
    "print(899 in a)"
   ]
  },
  {
   "cell_type": "markdown",
   "metadata": {},
   "source": [
    "# Tuples --- Round Bracket "
   ]
  },
  {
   "cell_type": "code",
   "execution_count": 74,
   "metadata": {},
   "outputs": [
    {
     "name": "stdout",
     "output_type": "stream",
     "text": [
      "(1, 2, 3, 4)\n",
      "4\n"
     ]
    },
    {
     "data": {
      "text/plain": [
       "tuple"
      ]
     },
     "execution_count": 74,
     "metadata": {},
     "output_type": "execute_result"
    }
   ],
   "source": [
    "#Tuples --- Round Bracket\n",
    "# Tuples are immutable collection\n",
    "\n",
    "a = (1,2,3,4)\n",
    "print(a)\n",
    "print(len(a))\n",
    "type(a)"
   ]
  },
  {
   "cell_type": "code",
   "execution_count": 75,
   "metadata": {},
   "outputs": [
    {
     "name": "stdout",
     "output_type": "stream",
     "text": [
      "(1, 2, 3, 4)\n",
      "2\n",
      "(2, 3)\n",
      "(2, 3, 4)\n",
      "(4,)\n",
      "()\n",
      "True\n",
      "False\n"
     ]
    }
   ],
   "source": [
    "print(a[:])\n",
    "print(a[1])\n",
    "print(a[1:3])\n",
    "print(a[1:4])\n",
    "print(a[3:5])\n",
    "print(a[4:6])\n",
    "print(4 in a)\n",
    "print(5 in a)"
   ]
  },
  {
   "cell_type": "code",
   "execution_count": 76,
   "metadata": {},
   "outputs": [
    {
     "ename": "TypeError",
     "evalue": "'tuple' object does not support item assignment",
     "output_type": "error",
     "traceback": [
      "\u001b[1;31m---------------------------------------------------------------------------\u001b[0m",
      "\u001b[1;31mTypeError\u001b[0m                                 Traceback (most recent call last)",
      "\u001b[1;32m<ipython-input-76-bcf3aab425b4>\u001b[0m in \u001b[0;36m<module>\u001b[1;34m\u001b[0m\n\u001b[1;32m----> 1\u001b[1;33m \u001b[0ma\u001b[0m\u001b[1;33m[\u001b[0m\u001b[1;36m1\u001b[0m\u001b[1;33m]\u001b[0m \u001b[1;33m=\u001b[0m \u001b[1;34m'Prashant'\u001b[0m \u001b[1;31m#Immutable\u001b[0m\u001b[1;33m\u001b[0m\u001b[1;33m\u001b[0m\u001b[0m\n\u001b[0m",
      "\u001b[1;31mTypeError\u001b[0m: 'tuple' object does not support item assignment"
     ]
    }
   ],
   "source": [
    "a[1] = 'Prashant' #Immutable"
   ]
  },
  {
   "cell_type": "code",
   "execution_count": 77,
   "metadata": {},
   "outputs": [
    {
     "data": {
      "text/plain": [
       "{1, 2, 3, 4, 5}"
      ]
     },
     "execution_count": 77,
     "metadata": {},
     "output_type": "execute_result"
    }
   ],
   "source": [
    "# Set - Curly bracket\n",
    "# Set is a collection that holds only unique values\n",
    "\n",
    "a = {1,2,3,4,4,4,4,4,5,5,5,5,5,1,1,1}\n",
    "a\n",
    "\n"
   ]
  },
  {
   "cell_type": "code",
   "execution_count": 78,
   "metadata": {},
   "outputs": [
    {
     "name": "stdout",
     "output_type": "stream",
     "text": [
      "{1, 2, 3, 4, 5}\n"
     ]
    },
    {
     "data": {
      "text/plain": [
       "set"
      ]
     },
     "execution_count": 78,
     "metadata": {},
     "output_type": "execute_result"
    }
   ],
   "source": [
    "print(a)\n",
    "type(a)"
   ]
  },
  {
   "cell_type": "code",
   "execution_count": 79,
   "metadata": {},
   "outputs": [
    {
     "data": {
      "text/plain": [
       "[1, 2, 3, 4]"
      ]
     },
     "execution_count": 79,
     "metadata": {},
     "output_type": "execute_result"
    }
   ],
   "source": [
    "#Set doesnt allow to access elements directly.\n",
    "#Strategy: Typecast the set into list\n",
    "\n",
    "list(a)[0:4]"
   ]
  },
  {
   "cell_type": "code",
   "execution_count": 80,
   "metadata": {},
   "outputs": [],
   "source": [
    "# Dictionary -- curly bracket\n",
    "# Data is represented in the for Key,Value pair\n",
    "#\n",
    "# key:value\n",
    "#\n",
    "# lookup dictionary, lookup table, K,V pairs,  IndexReference Layer\n",
    "\n",
    "stateAndCapitals = {'Maharashtra' : 'Mumbai',\n",
    "                   'Goa' : 'Panjim',\n",
    "                   'Karnataka': 'Bengaluru',\n",
    "                   'Kerala': 'Trivandrum',\n",
    "                   'madhay pradhesh': 'Bhopal'}"
   ]
  },
  {
   "cell_type": "code",
   "execution_count": 81,
   "metadata": {},
   "outputs": [
    {
     "data": {
      "text/plain": [
       "{'Maharashtra': 'Mumbai',\n",
       " 'Goa': 'Panjim',\n",
       " 'Karnataka': 'Bengaluru',\n",
       " 'Kerala': 'Trivandrum',\n",
       " 'madhay pradhesh': 'Bhopal'}"
      ]
     },
     "execution_count": 81,
     "metadata": {},
     "output_type": "execute_result"
    }
   ],
   "source": [
    "stateAndCapitals"
   ]
  },
  {
   "cell_type": "code",
   "execution_count": 82,
   "metadata": {},
   "outputs": [
    {
     "data": {
      "text/plain": [
       "dict"
      ]
     },
     "execution_count": 82,
     "metadata": {},
     "output_type": "execute_result"
    }
   ],
   "source": [
    "type(stateAndCapitals)"
   ]
  },
  {
   "cell_type": "code",
   "execution_count": 83,
   "metadata": {},
   "outputs": [
    {
     "data": {
      "text/plain": [
       "'Bhopal'"
      ]
     },
     "execution_count": 83,
     "metadata": {},
     "output_type": "execute_result"
    }
   ],
   "source": [
    "#To extract data from dictionary, we need to use key\n",
    "stateAndCapitals['madhay pradhesh']"
   ]
  },
  {
   "cell_type": "code",
   "execution_count": 84,
   "metadata": {},
   "outputs": [],
   "source": [
    "stateAndCapitals['TamilNadu'] = 'Chennai'"
   ]
  },
  {
   "cell_type": "code",
   "execution_count": 85,
   "metadata": {},
   "outputs": [
    {
     "data": {
      "text/plain": [
       "{'Maharashtra': 'Mumbai',\n",
       " 'Goa': 'Panjim',\n",
       " 'Karnataka': 'Bengaluru',\n",
       " 'Kerala': 'Trivandrum',\n",
       " 'madhay pradhesh': 'Bhopal',\n",
       " 'TamilNadu': 'Chennai'}"
      ]
     },
     "execution_count": 85,
     "metadata": {},
     "output_type": "execute_result"
    }
   ],
   "source": [
    "stateAndCapitals"
   ]
  },
  {
   "cell_type": "code",
   "execution_count": 86,
   "metadata": {},
   "outputs": [],
   "source": [
    "# Python ideally supports 4 statements\n",
    "# 1. if statement\n",
    "# 2. if..else statement\n",
    "# 3. elif ladder\n",
    "# 4. Ternary Operator\n",
    "\n",
    "# Used to specify a condition to perform an action"
   ]
  },
  {
   "cell_type": "code",
   "execution_count": 87,
   "metadata": {},
   "outputs": [],
   "source": [
    "# Comparison Operators\n",
    "# >          -- Greater than\n",
    "# <          -- Less than\n",
    "# >=         -- Greater than equal to \n",
    "# <=         -- less than equal to \n",
    "# !          -- not\n",
    "# !=         -- not equal to\n",
    "# ==         -- equal to "
   ]
  },
  {
   "cell_type": "code",
   "execution_count": 88,
   "metadata": {},
   "outputs": [
    {
     "name": "stdout",
     "output_type": "stream",
     "text": [
      "high temp\n"
     ]
    }
   ],
   "source": [
    "# if statement --- You can pass only one condition\n",
    "temp = 50\n",
    "if temp > 30:\n",
    "    print('high temp')"
   ]
  },
  {
   "cell_type": "code",
   "execution_count": 89,
   "metadata": {},
   "outputs": [
    {
     "name": "stdout",
     "output_type": "stream",
     "text": [
      "low temp\n"
     ]
    }
   ],
   "source": [
    "if temp < 60 and temp != 60:\n",
    "    print('low temp')"
   ]
  },
  {
   "cell_type": "code",
   "execution_count": 90,
   "metadata": {},
   "outputs": [
    {
     "name": "stdout",
     "output_type": "stream",
     "text": [
      "very high temp\n"
     ]
    }
   ],
   "source": [
    "if temp == 50:\n",
    "    print('very high temp')"
   ]
  },
  {
   "cell_type": "code",
   "execution_count": 91,
   "metadata": {},
   "outputs": [
    {
     "name": "stdout",
     "output_type": "stream",
     "text": [
      "low temp\n"
     ]
    }
   ],
   "source": [
    "# if ..else statement---- You can have one true condition and one default condition\n",
    "temp = 20\n",
    "\n",
    "if temp > 30:\n",
    "    print(\"High temp\")\n",
    "else:\n",
    "    print(\"low temp\")\n"
   ]
  },
  {
   "cell_type": "code",
   "execution_count": 92,
   "metadata": {},
   "outputs": [
    {
     "name": "stdout",
     "output_type": "stream",
     "text": [
      "Bursting Temp 1\n"
     ]
    }
   ],
   "source": [
    "temp = 50\n",
    "if temp > 30 and temp < 40:\n",
    "     print(\"High Temp\")\n",
    "elif temp >= 40 and temp < 50:\n",
    "    print(\"Bursting Temp\")\n",
    "elif temp >= 50 and temp < 60:\n",
    "    print(\"Bursting Temp 1\")\n",
    "elif temp >= 60:\n",
    "    print(\"Bursting Temp 2\")\n",
    "else:\n",
    "    print(\"Low Temp\")\n",
    "        "
   ]
  },
  {
   "cell_type": "code",
   "execution_count": 93,
   "metadata": {},
   "outputs": [
    {
     "name": "stdout",
     "output_type": "stream",
     "text": [
      "Enter your number: 23\n",
      " odd number \n",
      "Give number 23 is an odd number\n"
     ]
    }
   ],
   "source": [
    "# Accept a number from the user and print whether the number is EVEN or ODD\n",
    "\n",
    "#Logic: Number must be divisible by 2 (The remainder must be zero)\n",
    "\n",
    "\n",
    "number = int(input(\"Enter your number: \"))\n",
    "\n",
    "if number % 2 == 0:\n",
    "    print(\" even number \")\n",
    "    print(\"Give number {} is an even number\". format(number))\n",
    "else:\n",
    "    print(\" odd number \")\n",
    "    print(\"Give number {} is an odd number\". format(number))"
   ]
  },
  {
   "cell_type": "code",
   "execution_count": 94,
   "metadata": {},
   "outputs": [
    {
     "name": "stdout",
     "output_type": "stream",
     "text": [
      "Enter your number: 32\n"
     ]
    },
    {
     "data": {
      "text/plain": [
       "'even number'"
      ]
     },
     "execution_count": 94,
     "metadata": {},
     "output_type": "execute_result"
    }
   ],
   "source": [
    "#Ternary operator | replacement of ifelse\n",
    "\n",
    "number = int(input(\"Enter your number: \"))\n",
    "result =  \"even number\" if number % 2 == 0 else \" odd number\"\n",
    "result"
   ]
  },
  {
   "cell_type": "code",
   "execution_count": 95,
   "metadata": {},
   "outputs": [
    {
     "name": "stdout",
     "output_type": "stream",
     "text": [
      "Enter your number: 45\n"
     ]
    },
    {
     "data": {
      "text/plain": [
       "'Given number 45 is an Odd Number'"
      ]
     },
     "execution_count": 95,
     "metadata": {},
     "output_type": "execute_result"
    }
   ],
   "source": [
    "number = int(input(\"Enter your number: \"))\n",
    "result2 = \"Given number {} is an Even Number\".format(number) if number % 2 == 0 else \"Given number {} is an Odd Number\".format(number)\n",
    "result2"
   ]
  },
  {
   "cell_type": "code",
   "execution_count": 96,
   "metadata": {},
   "outputs": [],
   "source": [
    "data1 = {'data':[1,2,3,[7,8,9],10,{'city':['mumbai','chennai','Bangalore',{'code':[11,22,33]}]}]}"
   ]
  },
  {
   "cell_type": "code",
   "execution_count": 97,
   "metadata": {},
   "outputs": [
    {
     "data": {
      "text/plain": [
       "22"
      ]
     },
     "execution_count": 97,
     "metadata": {},
     "output_type": "execute_result"
    }
   ],
   "source": [
    "data1['data'][5]['city'][3]['code'][1]"
   ]
  },
  {
   "cell_type": "code",
   "execution_count": 98,
   "metadata": {},
   "outputs": [
    {
     "data": {
      "text/plain": [
       "dict"
      ]
     },
     "execution_count": 98,
     "metadata": {},
     "output_type": "execute_result"
    }
   ],
   "source": [
    "type(data1)"
   ]
  },
  {
   "cell_type": "code",
   "execution_count": 99,
   "metadata": {},
   "outputs": [],
   "source": [
    "# Logical Operators\n",
    "#\n",
    "# and\n",
    "# or\n",
    "# not"
   ]
  },
  {
   "cell_type": "code",
   "execution_count": null,
   "metadata": {},
   "outputs": [],
   "source": [
    "#Loan Eligibility Check\n",
    "\n",
    "# Truth Table (and)\n",
    "# condition1  condition2  result\n",
    "#   True        True       True\n",
    "#   False       True       False\n",
    "#   True        False      False\n",
    "#   False       False      False\n",
    "\n",
    "# For And all conditions must be true"
   ]
  },
  {
   "cell_type": "code",
   "execution_count": 102,
   "metadata": {},
   "outputs": [
    {
     "name": "stdout",
     "output_type": "stream",
     "text": [
      "Not Eligible\n"
     ]
    }
   ],
   "source": [
    "income = 7000\n",
    "creditScore = 701\n",
    "\n",
    "if income > 8000 and creditScore > 7000:\n",
    "    print('Eligible')\n",
    "else:\n",
    "    print('Not Eligible')"
   ]
  },
  {
   "cell_type": "code",
   "execution_count": 103,
   "metadata": {},
   "outputs": [
    {
     "name": "stdout",
     "output_type": "stream",
     "text": [
      "Not Eligible\n"
     ]
    }
   ],
   "source": [
    "income = 7000\n",
    "creditScore = 701\n",
    "\n",
    "if income > 8000 or creditScore > 7000:\n",
    "    print(\"Eligible\")\n",
    "else:\n",
    "    print('Not Eligible')"
   ]
  },
  {
   "cell_type": "code",
   "execution_count": 105,
   "metadata": {},
   "outputs": [
    {
     "name": "stdout",
     "output_type": "stream",
     "text": [
      "Eligible for IAS exam\n"
     ]
    }
   ],
   "source": [
    "age = 19\n",
    "if age >= 18 and age <= 32:\n",
    "    print(\"Eligible for IAS exam\")\n",
    "else:\n",
    "    print(\"Not Eligible\")"
   ]
  },
  {
   "cell_type": "code",
   "execution_count": 108,
   "metadata": {},
   "outputs": [
    {
     "name": "stdout",
     "output_type": "stream",
     "text": [
      "Eligible for IAS exam\n"
     ]
    }
   ],
   "source": [
    "age = 19\n",
    "if 18 <= age <= 32:\n",
    "    print(\"Eligible for IAS exam\")\n",
    "else:\n",
    "    print(\"Not Eligible\")"
   ]
  },
  {
   "cell_type": "code",
   "execution_count": 111,
   "metadata": {},
   "outputs": [
    {
     "name": "stdout",
     "output_type": "stream",
     "text": [
      "4\n",
      "5\n"
     ]
    }
   ],
   "source": [
    "k = [1,2,3,[4,5,[6]]]\n",
    "print(len(k))\n",
    "print(k[3][1])"
   ]
  },
  {
   "cell_type": "markdown",
   "metadata": {},
   "source": [
    "# class 3"
   ]
  },
  {
   "cell_type": "code",
   "execution_count": 119,
   "metadata": {},
   "outputs": [
    {
     "name": "stdout",
     "output_type": "stream",
     "text": [
      "Hello \n",
      "My name is Prashant\n"
     ]
    }
   ],
   "source": [
    "data = \"Hello \\nMy name is Prashant\"\n",
    "print(data)"
   ]
  },
  {
   "cell_type": "code",
   "execution_count": null,
   "metadata": {},
   "outputs": [],
   "source": [
    "#Loops -- Its all about re-iterating the statement multiple times subject to condition\n",
    "#For loop --- To traverse and perform operation on a collection object !!!"
   ]
  },
  {
   "cell_type": "code",
   "execution_count": 120,
   "metadata": {},
   "outputs": [
    {
     "data": {
      "text/plain": [
       "[1, 2, 3, 4, 5, 6, 7, 8, 9]"
      ]
     },
     "execution_count": 120,
     "metadata": {},
     "output_type": "execute_result"
    }
   ],
   "source": [
    "# Range function in python - Allows users to create a range of values and store the same in the form \n",
    "# of collection\n",
    "\n",
    "#range(start_value, upper_bound_value) \n",
    "# Where\n",
    "# upper_bound_value = endvalue + 1\n",
    "\n",
    "list(range(1,10)) "
   ]
  },
  {
   "cell_type": "markdown",
   "metadata": {},
   "source": [
    "# class 3"
   ]
  },
  {
   "cell_type": "code",
   "execution_count": 121,
   "metadata": {},
   "outputs": [
    {
     "name": "stdout",
     "output_type": "stream",
     "text": [
      "Hello \n",
      "My name is Prashant\n"
     ]
    }
   ],
   "source": [
    "data = \"Hello \\nMy name is Prashant\"\n",
    "print(data)"
   ]
  },
  {
   "cell_type": "code",
   "execution_count": null,
   "metadata": {},
   "outputs": [],
   "source": [
    "#Loops -- Its all about re-iterating the statement multiple times subject to condition\n",
    "#For loop --- To traverse and perform operation on a collection object !!!"
   ]
  },
  {
   "cell_type": "code",
   "execution_count": 122,
   "metadata": {},
   "outputs": [
    {
     "data": {
      "text/plain": [
       "[1, 2, 3, 4, 5, 6, 7, 8, 9]"
      ]
     },
     "execution_count": 122,
     "metadata": {},
     "output_type": "execute_result"
    }
   ],
   "source": [
    "# Range function in python - Allows users to create a range of values and store the same in the form \n",
    "# of collection\n",
    "\n",
    "#range(start_value, upper_bound_value) \n",
    "# Where\n",
    "# upper_bound_value = endvalue + 1\n",
    "\n",
    "list(range(1,10))"
   ]
  },
  {
   "cell_type": "code",
   "execution_count": 123,
   "metadata": {},
   "outputs": [
    {
     "data": {
      "text/plain": [
       "[20, 21, 22, 23, 24, 25, 26, 27, 28, 29, 30]"
      ]
     },
     "execution_count": 123,
     "metadata": {},
     "output_type": "execute_result"
    }
   ],
   "source": [
    "list(range(20,31))"
   ]
  },
  {
   "cell_type": "code",
   "execution_count": 125,
   "metadata": {},
   "outputs": [
    {
     "data": {
      "text/plain": [
       "[1, 2, 3, 4, 5, 6, 7, 8, 9, 10]"
      ]
     },
     "execution_count": 125,
     "metadata": {},
     "output_type": "execute_result"
    }
   ],
   "source": [
    "collectionObject = list(range(1,11))\n",
    "collectionObject"
   ]
  },
  {
   "cell_type": "code",
   "execution_count": 127,
   "metadata": {},
   "outputs": [
    {
     "name": "stdout",
     "output_type": "stream",
     "text": [
      "1\n",
      "2\n",
      "3\n",
      "4\n",
      "5\n",
      "6\n",
      "7\n",
      "8\n",
      "9\n",
      "10\n"
     ]
    }
   ],
   "source": [
    "#How to access each element in the collection\n",
    "for tempVariable in collectionObject:\n",
    "     print(tempVariable)"
   ]
  },
  {
   "cell_type": "code",
   "execution_count": 131,
   "metadata": {},
   "outputs": [
    {
     "name": "stdout",
     "output_type": "stream",
     "text": [
      "2\n",
      "3\n",
      "4\n",
      "5\n",
      "6\n",
      "7\n",
      "8\n",
      "9\n",
      "10\n",
      "11\n"
     ]
    }
   ],
   "source": [
    "#Adding 1 to each number\n",
    "for tempVariable in collectionObject:\n",
    "     print(tempVariable+1)"
   ]
  },
  {
   "cell_type": "code",
   "execution_count": 136,
   "metadata": {},
   "outputs": [
    {
     "name": "stdout",
     "output_type": "stream",
     "text": [
      "even number  0\n",
      "even number  2\n",
      "even number  4\n",
      "even number  6\n",
      "even number  8\n",
      "even number  10\n",
      "even number  12\n",
      "even number  14\n",
      "even number  16\n",
      "even number  18\n"
     ]
    }
   ],
   "source": [
    "#Extract only even numbers from the list\n",
    "teb = list(range(0,20))\n",
    "for temvalue in teb:\n",
    "    if temvalue % 2 == 0:\n",
    "        print(\"even number \",temvalue)\n"
   ]
  },
  {
   "cell_type": "code",
   "execution_count": 137,
   "metadata": {},
   "outputs": [
    {
     "name": "stdout",
     "output_type": "stream",
     "text": [
      "odd number  1\n",
      "odd number  3\n",
      "odd number  5\n",
      "odd number  7\n",
      "odd number  9\n",
      "odd number  11\n",
      "odd number  13\n",
      "odd number  15\n",
      "odd number  17\n",
      "odd number  19\n"
     ]
    }
   ],
   "source": [
    "for temvalue in teb:\n",
    "    if temvalue % 2 != 0:\n",
    "        print(\"odd number \",temvalue)"
   ]
  },
  {
   "cell_type": "code",
   "execution_count": 143,
   "metadata": {},
   "outputs": [],
   "source": [
    "evenlist=[]\n",
    "for eve in teb:\n",
    "    if eve % 2 ==0:\n",
    "        evenlist.append(eve)"
   ]
  },
  {
   "cell_type": "code",
   "execution_count": 144,
   "metadata": {},
   "outputs": [
    {
     "data": {
      "text/plain": [
       "[0, 2, 4, 6, 8, 10, 12, 14, 16, 18]"
      ]
     },
     "execution_count": 144,
     "metadata": {},
     "output_type": "execute_result"
    }
   ],
   "source": [
    "evenlist"
   ]
  },
  {
   "cell_type": "code",
   "execution_count": 145,
   "metadata": {},
   "outputs": [
    {
     "data": {
      "text/plain": [
       "[1, 3, 5, 7, 9, 11, 13, 15, 17, 19]"
      ]
     },
     "execution_count": 145,
     "metadata": {},
     "output_type": "execute_result"
    }
   ],
   "source": [
    "oddlist=[]\n",
    "for odo in teb:\n",
    "    if odo % 2 != 0:\n",
    "        oddlist.append(odo)\n",
    "oddlist        "
   ]
  },
  {
   "cell_type": "code",
   "execution_count": 146,
   "metadata": {},
   "outputs": [
    {
     "name": "stdout",
     "output_type": "stream",
     "text": [
      "even list [0, 2, 4, 6, 8, 10, 12, 14, 16, 18]\n",
      "odd list [1, 3, 5, 7, 9, 11, 13, 15, 17, 19]\n"
     ]
    }
   ],
   "source": [
    "#Extract only even & odd numbers from the list\n",
    "evenlist1=[]\n",
    "oddlist1=[]\n",
    "for numlist in teb:\n",
    "    if numlist % 2 == 0:\n",
    "        evenlist1.append(numlist)\n",
    "    else:\n",
    "        oddlist1.append(numlist)\n",
    "\n",
    "print(\"even list\",evenlist1)\n",
    "print(\"odd list\",oddlist1)\n",
    "\n",
    "        "
   ]
  },
  {
   "cell_type": "code",
   "execution_count": 161,
   "metadata": {},
   "outputs": [
    {
     "name": "stdout",
     "output_type": "stream",
     "text": [
      "1000\n",
      "2000\n",
      "3000\n",
      "4000\n",
      "5000\n",
      "[1200.0, 2000, 3300.0000000000005, 4400.0, 5000]\n"
     ]
    }
   ],
   "source": [
    "# Question\n",
    "\n",
    "salaryList = [1000,2000,3000,4000,5000]\n",
    "\n",
    "#Increment the salary of the employee based on the following condition\n",
    "# if income is less than 2000 --> 20% hike\n",
    "# if the income is between 2000 and 4000 --> 10% hike\n",
    "# if the income is greater than 4000 ---> No hike\n",
    "updatelist=[]\n",
    "#if salaryList < 2000:\n",
    "    \n",
    "for sal in salaryList:\n",
    "    print(sal)\n",
    "    if sal < 2000:\n",
    "        updatelist.append(sal * 1.2)\n",
    "    elif sal > 2000 and sal <= 4000:\n",
    "        updatelist.append(sal * 1.1)\n",
    "    else:\n",
    "        updatelist.append(sal)\n",
    "        \n",
    "print(updatelist)        \n"
   ]
  },
  {
   "cell_type": "code",
   "execution_count": 164,
   "metadata": {},
   "outputs": [
    {
     "name": "stdout",
     "output_type": "stream",
     "text": [
      "$ 1200.00\n",
      "$ 2000.00\n",
      "$ 3300.00\n",
      "$ 4400.00\n",
      "$ 5000.00\n"
     ]
    }
   ],
   "source": [
    "for i in updatelist:\n",
    "    print(\"$ {0:.2f}\".format(i))"
   ]
  },
  {
   "cell_type": "code",
   "execution_count": 181,
   "metadata": {},
   "outputs": [
    {
     "name": "stdout",
     "output_type": "stream",
     "text": [
      "1\n",
      "2\n",
      "3\n",
      "4\n",
      "5\n",
      "[1200.0, 2200.0, 3300.0000000000005, 4400.0, 5000]\n"
     ]
    }
   ],
   "source": [
    "salaryList = [1000,2000,3000,4000,5000]\n",
    "\n",
    "#Increment the salary of the employee based on the following condition\n",
    "# if income is less than 2000 --> 20% hike\n",
    "# if the income is between 2000 and 4000 --> 10% hike\n",
    "# if the income is greater than 4000 ---> No hike\n",
    "\n",
    "#updatedSalary= []\n",
    "i = 0\n",
    "for sal in salaryList:   \n",
    "    if sal < 2000:\n",
    "        salaryList[i] = sal * 1.2\n",
    "    elif sal <= 4000:\n",
    "        salaryList[i] = sal * 1.1\n",
    "    else:\n",
    "        salaryList[i]\n",
    "    i= i+1\n",
    "    print(i)\n",
    "print(salaryList)"
   ]
  },
  {
   "cell_type": "code",
   "execution_count": null,
   "metadata": {},
   "outputs": [],
   "source": [
    "# Functions are reusable codes\n",
    "# In python there exists two functions:\n",
    "# 1. Pre-defined Functions -- len, append, print, round, format\n",
    "# 2. User-defined Functions"
   ]
  },
  {
   "cell_type": "code",
   "execution_count": null,
   "metadata": {},
   "outputs": [],
   "source": [
    "# 1. Pre-defined Functions\n",
    "list1 = [1,2,3,4]\n",
    "len(list1)"
   ]
  },
  {
   "cell_type": "code",
   "execution_count": null,
   "metadata": {},
   "outputs": [],
   "source": [
    "# 2. User-defined Functions\n",
    "# You can create your own functions\n",
    "# Ideally function creation can have two variations\n",
    "# 1. Function that can print values\n",
    "# 2. Function that can return values"
   ]
  },
  {
   "cell_type": "code",
   "execution_count": 182,
   "metadata": {},
   "outputs": [
    {
     "name": "stdout",
     "output_type": "stream",
     "text": [
      "welcome  anoop\n"
     ]
    }
   ],
   "source": [
    "# 1. Function that can print values\n",
    "\n",
    "def greetMe(name):\n",
    "    print(\"welcome \",name)    \n",
    "greetMe(\"anoop\")    \n"
   ]
  },
  {
   "cell_type": "code",
   "execution_count": 183,
   "metadata": {},
   "outputs": [
    {
     "name": "stdout",
     "output_type": "stream",
     "text": [
      "city  bhopal\n"
     ]
    }
   ],
   "source": [
    "def loca(city):\n",
    "    print(\"city \",city)\n",
    "loca(\"bhopal\")    "
   ]
  },
  {
   "cell_type": "code",
   "execution_count": 184,
   "metadata": {},
   "outputs": [
    {
     "name": "stdout",
     "output_type": "stream",
     "text": [
      "lang  hindi\n"
     ]
    }
   ],
   "source": [
    "def lan(lang):\n",
    "    print(\"lang \",lang)\n",
    "lan(\"hindi\")    "
   ]
  },
  {
   "cell_type": "code",
   "execution_count": 185,
   "metadata": {},
   "outputs": [],
   "source": [
    "# 2. Function that can return values\n",
    "def add(num1, num2):\n",
    "    return num1 + num2"
   ]
  },
  {
   "cell_type": "code",
   "execution_count": 186,
   "metadata": {},
   "outputs": [
    {
     "data": {
      "text/plain": [
       "3"
      ]
     },
     "execution_count": 186,
     "metadata": {},
     "output_type": "execute_result"
    }
   ],
   "source": [
    "add(1,2)"
   ]
  },
  {
   "cell_type": "code",
   "execution_count": 190,
   "metadata": {},
   "outputs": [],
   "source": [
    "def sub(num1,num2):\n",
    "    return num1 - num2\n",
    "def mul(num1,num2):\n",
    "    return num1 * num2"
   ]
  },
  {
   "cell_type": "code",
   "execution_count": 193,
   "metadata": {},
   "outputs": [
    {
     "name": "stdout",
     "output_type": "stream",
     "text": [
      "11\n",
      "276\n"
     ]
    }
   ],
   "source": [
    "print(sub(23,12))\n",
    "print(mul(23,12))"
   ]
  },
  {
   "cell_type": "code",
   "execution_count": 194,
   "metadata": {},
   "outputs": [],
   "source": [
    "def mylen(list2):\n",
    "    count=0\n",
    "    for i in list2:\n",
    "        count += 1\n",
    "    return count   \n",
    "        "
   ]
  },
  {
   "cell_type": "code",
   "execution_count": 195,
   "metadata": {},
   "outputs": [
    {
     "data": {
      "text/plain": [
       "6"
      ]
     },
     "execution_count": 195,
     "metadata": {},
     "output_type": "execute_result"
    }
   ],
   "source": [
    "list2 = [1,2,3,4,5,6]\n",
    "mylen(list2)"
   ]
  },
  {
   "cell_type": "code",
   "execution_count": 196,
   "metadata": {},
   "outputs": [
    {
     "data": {
      "text/plain": [
       "5"
      ]
     },
     "execution_count": 196,
     "metadata": {},
     "output_type": "execute_result"
    }
   ],
   "source": [
    "# Function Terminologies:\n",
    "# num1 , num2 ---> Parameters\n",
    "def add(num1 , num2):\n",
    "    return num1 + num2\n",
    "\n",
    "add(3,2) #3,2 --- arguments"
   ]
  },
  {
   "cell_type": "code",
   "execution_count": 197,
   "metadata": {},
   "outputs": [
    {
     "data": {
      "text/plain": [
       "0"
      ]
     },
     "execution_count": 197,
     "metadata": {},
     "output_type": "execute_result"
    }
   ],
   "source": [
    "#Parameters are defined during function creation\n",
    "#Arguments are defined during function usage\n",
    "\n",
    "# You can create a function that can hold default argument in the parameter\n",
    "\n",
    "def add(num1 = 0 ,num2 = 0):\n",
    "    return num1 + num2\n",
    "add()"
   ]
  },
  {
   "cell_type": "code",
   "execution_count": 199,
   "metadata": {},
   "outputs": [
    {
     "data": {
      "text/plain": [
       "12"
      ]
     },
     "execution_count": 199,
     "metadata": {},
     "output_type": "execute_result"
    }
   ],
   "source": [
    "add(12)"
   ]
  },
  {
   "cell_type": "code",
   "execution_count": 200,
   "metadata": {},
   "outputs": [
    {
     "data": {
      "text/plain": [
       "15"
      ]
     },
     "execution_count": 200,
     "metadata": {},
     "output_type": "execute_result"
    }
   ],
   "source": [
    "add(12,3)"
   ]
  },
  {
   "cell_type": "code",
   "execution_count": null,
   "metadata": {},
   "outputs": [],
   "source": [
    "#You can create a documentation of a function\n",
    "def add(num1 = 0 ,num2 = 0):\n",
    "    '''\n",
    "    Author: Prashant Nair\n",
    "    Usage: add(num1,num2)\n",
    "            where num1 -- can be any number\n",
    "                  num2 -- can be any number\n",
    "                  \n",
    "    Examples:\n",
    "            add(3,2)  returns 5\n",
    "    '''\n",
    "    return num1 + num2"
   ]
  },
  {
   "cell_type": "code",
   "execution_count": null,
   "metadata": {},
   "outputs": [],
   "source": [
    "?add"
   ]
  },
  {
   "cell_type": "code",
   "execution_count": null,
   "metadata": {},
   "outputs": [],
   "source": [
    "#Function\n",
    "def add(n1,n2):\n",
    "    return n1+n2"
   ]
  },
  {
   "cell_type": "code",
   "execution_count": 201,
   "metadata": {},
   "outputs": [
    {
     "data": {
      "text/plain": [
       "90"
      ]
     },
     "execution_count": 201,
     "metadata": {},
     "output_type": "execute_result"
    }
   ],
   "source": [
    "add(34,56)"
   ]
  },
  {
   "cell_type": "code",
   "execution_count": 203,
   "metadata": {},
   "outputs": [],
   "source": [
    "#Lambda Expression\n",
    "#-----------params---return logic\n",
    "add1 = lambda n1,n2: n1+n2\n",
    "\n",
    "#Lambda expression cannot have more than one liner logic"
   ]
  },
  {
   "cell_type": "code",
   "execution_count": 204,
   "metadata": {},
   "outputs": [
    {
     "data": {
      "text/plain": [
       "5"
      ]
     },
     "execution_count": 204,
     "metadata": {},
     "output_type": "execute_result"
    }
   ],
   "source": [
    "add1(3,2)"
   ]
  },
  {
   "cell_type": "code",
   "execution_count": 1,
   "metadata": {},
   "outputs": [
    {
     "data": {
      "text/plain": [
       "range(1, 10)"
      ]
     },
     "execution_count": 1,
     "metadata": {},
     "output_type": "execute_result"
    }
   ],
   "source": [
    "range(1,10)"
   ]
  },
  {
   "cell_type": "code",
   "execution_count": 4,
   "metadata": {},
   "outputs": [
    {
     "data": {
      "text/plain": [
       "[10, 11, 12, 13, 14, 15, 16, 17, 18, 19]"
      ]
     },
     "execution_count": 4,
     "metadata": {},
     "output_type": "execute_result"
    }
   ],
   "source": [
    "#list(range(1,10))\n",
    "list(range(10,20))"
   ]
  },
  {
   "cell_type": "code",
   "execution_count": 10,
   "metadata": {},
   "outputs": [
    {
     "name": "stdout",
     "output_type": "stream",
     "text": [
      "2\n",
      "3\n",
      "4\n",
      "5\n",
      "6\n",
      "7\n",
      "8\n",
      "9\n",
      "10\n",
      "11\n"
     ]
    }
   ],
   "source": [
    "lj = []\n",
    "collection = list(range(1,11))\n",
    "for li in collection:\n",
    "    print(li+1)\n",
    "    lj.append(li+5)"
   ]
  },
  {
   "cell_type": "code",
   "execution_count": 11,
   "metadata": {},
   "outputs": [
    {
     "data": {
      "text/plain": [
       "[6, 7, 8, 9, 10, 11, 12, 13, 14, 15]"
      ]
     },
     "execution_count": 11,
     "metadata": {},
     "output_type": "execute_result"
    }
   ],
   "source": [
    "lj"
   ]
  },
  {
   "cell_type": "code",
   "execution_count": 15,
   "metadata": {},
   "outputs": [
    {
     "name": "stdout",
     "output_type": "stream",
     "text": [
      "even number 6\n",
      "odd number 7\n",
      "even number 8\n",
      "odd number 9\n",
      "even number 10\n",
      "odd number 11\n",
      "even number 12\n",
      "odd number 13\n",
      "even number 14\n",
      "odd number 15\n"
     ]
    }
   ],
   "source": [
    "for lu in lj:\n",
    "    if lu%2 ==0:\n",
    "        print(\"even number\",lu)\n",
    "    else:\n",
    "        print(\"odd number\", lu)"
   ]
  },
  {
   "cell_type": "code",
   "execution_count": 24,
   "metadata": {},
   "outputs": [
    {
     "name": "stdout",
     "output_type": "stream",
     "text": [
      "$ 1200.0\n",
      "$ 2200.0\n",
      "$ 3300.0000000000005\n",
      "$ 4000\n",
      "$ 5000\n"
     ]
    }
   ],
   "source": [
    "sal = [1000,2000,3000,4000,5000]\n",
    "for incre in sal:\n",
    "    if incre < 2000:\n",
    "        print('$',incre*1.2)\n",
    "    elif incre < 4000:\n",
    "        print('$',incre * 1.1)\n",
    "    else:\n",
    "        print('$',incre)\n"
   ]
  },
  {
   "cell_type": "code",
   "execution_count": 26,
   "metadata": {},
   "outputs": [],
   "source": [
    "def greetMe(name):\n",
    "    print(\"welcome \",name)"
   ]
  },
  {
   "cell_type": "code",
   "execution_count": 27,
   "metadata": {},
   "outputs": [
    {
     "name": "stdout",
     "output_type": "stream",
     "text": [
      "welcome  anoop kumar\n"
     ]
    }
   ],
   "source": [
    "greetMe(\"anoop kumar\")"
   ]
  },
  {
   "cell_type": "code",
   "execution_count": 28,
   "metadata": {},
   "outputs": [],
   "source": [
    "def grtme(name):\n",
    "    print(\"how are u\",name)"
   ]
  },
  {
   "cell_type": "code",
   "execution_count": 35,
   "metadata": {},
   "outputs": [
    {
     "name": "stdout",
     "output_type": "stream",
     "text": [
      "how are u kabir\n"
     ]
    }
   ],
   "source": [
    "zzz = grtme(\"kabir\")\n",
    "zzz"
   ]
  },
  {
   "cell_type": "code",
   "execution_count": 40,
   "metadata": {},
   "outputs": [
    {
     "data": {
      "text/plain": [
       "8"
      ]
     },
     "execution_count": 40,
     "metadata": {},
     "output_type": "execute_result"
    }
   ],
   "source": [
    "list1 = [1,2,3,4,5,6,7,8]\n",
    "len(list1)"
   ]
  },
  {
   "cell_type": "code",
   "execution_count": 41,
   "metadata": {},
   "outputs": [],
   "source": [
    "def mylen(list1):\n",
    "    counter = 0\n",
    "    for i in list1:\n",
    "        counter += 1\n",
    "    return counter     "
   ]
  },
  {
   "cell_type": "code",
   "execution_count": 43,
   "metadata": {},
   "outputs": [
    {
     "data": {
      "text/plain": [
       "8"
      ]
     },
     "execution_count": 43,
     "metadata": {},
     "output_type": "execute_result"
    }
   ],
   "source": [
    "mylen(list1)"
   ]
  },
  {
   "cell_type": "code",
   "execution_count": null,
   "metadata": {},
   "outputs": [],
   "source": []
  },
  {
   "cell_type": "code",
   "execution_count": null,
   "metadata": {},
   "outputs": [],
   "source": []
  },
  {
   "cell_type": "code",
   "execution_count": 25,
   "metadata": {},
   "outputs": [],
   "source": [
    "\n",
    "import sys\n"
   ]
  },
  {
   "cell_type": "code",
   "execution_count": 26,
   "metadata": {},
   "outputs": [
    {
     "name": "stdout",
     "output_type": "stream",
     "text": [
      "3.7.6 (default, Jan  8 2020, 20:23:39) [MSC v.1916 64 bit (AMD64)]\n"
     ]
    }
   ],
   "source": [
    "print(sys.version)"
   ]
  }
 ],
 "metadata": {
  "kernelspec": {
   "display_name": "Python 3",
   "language": "python",
   "name": "python3"
  },
  "language_info": {
   "codemirror_mode": {
    "name": "ipython",
    "version": 3
   },
   "file_extension": ".py",
   "mimetype": "text/x-python",
   "name": "python",
   "nbconvert_exporter": "python",
   "pygments_lexer": "ipython3",
   "version": "3.7.6"
  }
 },
 "nbformat": 4,
 "nbformat_minor": 4
}
