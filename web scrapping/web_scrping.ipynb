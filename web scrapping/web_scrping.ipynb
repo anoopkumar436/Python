{
 "cells": [
  {
   "cell_type": "code",
   "execution_count": 1,
   "metadata": {
    "scrolled": true
   },
   "outputs": [],
   "source": [
    "\n",
    "# pip install selenium"
   ]
  },
  {
   "cell_type": "code",
   "execution_count": 2,
   "metadata": {},
   "outputs": [],
   "source": [
    "# pip install webdrivermanager"
   ]
  },
  {
   "cell_type": "code",
   "execution_count": 3,
   "metadata": {
    "scrolled": false
   },
   "outputs": [],
   "source": [
    "# pip install webdriver_manager"
   ]
  },
  {
   "cell_type": "code",
   "execution_count": 28,
   "metadata": {
    "scrolled": true
   },
   "outputs": [
    {
     "name": "stderr",
     "output_type": "stream",
     "text": [
      "[WDM] - Current google-chrome version is 87.0.4280\n",
      "[WDM] - Get LATEST driver version for 87.0.4280\n"
     ]
    },
    {
     "name": "stdout",
     "output_type": "stream",
     "text": [
      " \n"
     ]
    },
    {
     "name": "stderr",
     "output_type": "stream",
     "text": [
      "[WDM] - Driver [C:\\Users\\ANOOP\\.wdm\\drivers\\chromedriver\\win32\\87.0.4280.88\\chromedriver.exe] found in cache\n"
     ]
    }
   ],
   "source": [
    "from selenium import webdriver\n",
    "from webdriver_manager.chrome import ChromeDriverManager\n",
    "\n",
    "driver = webdriver.Chrome(executable_path=ChromeDriverManager().install())\n",
    "driver.get('https://dir.indiamart.com/search.mp?ss=ceilink+tiles&prdsrc=1')"
   ]
  },
  {
   "cell_type": "code",
   "execution_count": 27,
   "metadata": {},
   "outputs": [],
   "source": [
    "#driver.get('https://dir.indiamart.com/search.mp?ss=ceilink+tiles&prdsrc=1')"
   ]
  },
  {
   "cell_type": "code",
   "execution_count": 11,
   "metadata": {},
   "outputs": [],
   "source": [
    "import numpy as np\n",
    "import pandas as pd\n"
   ]
  },
  {
   "cell_type": "code",
   "execution_count": 18,
   "metadata": {},
   "outputs": [],
   "source": [
    "storeDetails = driver.find_elements_by_class_name('clg')\n",
    "names = driver.find_elements_by_class_name('lcname')\n",
    "contactList = driver.find_elements_by_class_name('pns_h')\n",
    "#     ('mCnme')\n",
    "nameList = []\n",
    "addressList = []\n",
    "numberList = []\n",
    "\n",
    "for i in range(len(contactList)):\n",
    "    name = names[i].text\n",
    "    address = storeDetails[i].text\n",
    "    contact = contactList[i].get_attribute(\"innerHTML\")\n",
    "    \n",
    "    nameList.append(name)\n",
    "    addressList.append(address)\n",
    "    numberList.append(contact)\n",
    "    \n",
    "\n",
    "    \n",
    "data = { 'Company Name':nameList, 'Address':addressList, 'Phone':numberList}    \n",
    "\n",
    "df =  pd.DataFrame(data)\n",
    "    \n",
    "\n",
    "\n"
   ]
  },
  {
   "cell_type": "code",
   "execution_count": 20,
   "metadata": {},
   "outputs": [
    {
     "data": {
      "text/html": [
       "<div>\n",
       "<style scoped>\n",
       "    .dataframe tbody tr th:only-of-type {\n",
       "        vertical-align: middle;\n",
       "    }\n",
       "\n",
       "    .dataframe tbody tr th {\n",
       "        vertical-align: top;\n",
       "    }\n",
       "\n",
       "    .dataframe thead th {\n",
       "        text-align: right;\n",
       "    }\n",
       "</style>\n",
       "<table border=\"1\" class=\"dataframe\">\n",
       "  <thead>\n",
       "    <tr style=\"text-align: right;\">\n",
       "      <th></th>\n",
       "      <th>Company Name</th>\n",
       "      <th>Address</th>\n",
       "      <th>Phone</th>\n",
       "    </tr>\n",
       "  </thead>\n",
       "  <tbody>\n",
       "    <tr>\n",
       "      <th>0</th>\n",
       "      <td>M. G. Industries</td>\n",
       "      <td>Faridabad</td>\n",
       "      <td>08048745710</td>\n",
       "    </tr>\n",
       "    <tr>\n",
       "      <th>1</th>\n",
       "      <td>FurniTech</td>\n",
       "      <td>Gulbai Tekra, Ahmedabad</td>\n",
       "      <td>08041948324</td>\n",
       "    </tr>\n",
       "    <tr>\n",
       "      <th>2</th>\n",
       "      <td>Shri Giriraj Trading Co.</td>\n",
       "      <td>Nangloi, New Delhi</td>\n",
       "      <td>08048764485</td>\n",
       "    </tr>\n",
       "    <tr>\n",
       "      <th>3</th>\n",
       "      <td>Saini Plywood House</td>\n",
       "      <td>Defence Colony, New Delhi</td>\n",
       "      <td>08048024482</td>\n",
       "    </tr>\n",
       "    <tr>\n",
       "      <th>4</th>\n",
       "      <td>Supersil Architectural Product Private Limited</td>\n",
       "      <td>Prahlad Nagar, Ahmedabad</td>\n",
       "      <td>08048017111</td>\n",
       "    </tr>\n",
       "    <tr>\n",
       "      <th>...</th>\n",
       "      <td>...</td>\n",
       "      <td>...</td>\n",
       "      <td>...</td>\n",
       "    </tr>\n",
       "    <tr>\n",
       "      <th>135</th>\n",
       "      <td>Specthrum</td>\n",
       "      <td>Industrial Area Phase 2, Chandigarh</td>\n",
       "      <td>08045315858</td>\n",
       "    </tr>\n",
       "    <tr>\n",
       "      <th>136</th>\n",
       "      <td>Professional Designs</td>\n",
       "      <td>Noida</td>\n",
       "      <td>07971471740</td>\n",
       "    </tr>\n",
       "    <tr>\n",
       "      <th>137</th>\n",
       "      <td>Brixwell Interiors</td>\n",
       "      <td>Jaipur</td>\n",
       "      <td>08048939639</td>\n",
       "    </tr>\n",
       "    <tr>\n",
       "      <th>138</th>\n",
       "      <td></td>\n",
       "      <td></td>\n",
       "      <td>07971385969</td>\n",
       "    </tr>\n",
       "    <tr>\n",
       "      <th>139</th>\n",
       "      <td></td>\n",
       "      <td></td>\n",
       "      <td>08048731183</td>\n",
       "    </tr>\n",
       "  </tbody>\n",
       "</table>\n",
       "<p>140 rows × 3 columns</p>\n",
       "</div>"
      ],
      "text/plain": [
       "                                       Company Name  \\\n",
       "0                                  M. G. Industries   \n",
       "1                                         FurniTech   \n",
       "2                          Shri Giriraj Trading Co.   \n",
       "3                               Saini Plywood House   \n",
       "4    Supersil Architectural Product Private Limited   \n",
       "..                                              ...   \n",
       "135                                       Specthrum   \n",
       "136                            Professional Designs   \n",
       "137                              Brixwell Interiors   \n",
       "138                                                   \n",
       "139                                                   \n",
       "\n",
       "                                 Address                     Phone  \n",
       "0                              Faridabad  08048745710               \n",
       "1                Gulbai Tekra, Ahmedabad  08041948324               \n",
       "2                     Nangloi, New Delhi  08048764485               \n",
       "3              Defence Colony, New Delhi  08048024482               \n",
       "4               Prahlad Nagar, Ahmedabad  08048017111               \n",
       "..                                   ...                       ...  \n",
       "135  Industrial Area Phase 2, Chandigarh  08045315858               \n",
       "136                                Noida  07971471740               \n",
       "137                               Jaipur  08048939639               \n",
       "138                                       07971385969               \n",
       "139                                       08048731183               \n",
       "\n",
       "[140 rows x 3 columns]"
      ]
     },
     "execution_count": 20,
     "metadata": {},
     "output_type": "execute_result"
    }
   ],
   "source": [
    "df"
   ]
  },
  {
   "cell_type": "code",
   "execution_count": 23,
   "metadata": {},
   "outputs": [],
   "source": [
    "df.to_csv(\"demo.csv\", mode='a', header=False)"
   ]
  },
  {
   "cell_type": "code",
   "execution_count": null,
   "metadata": {},
   "outputs": [],
   "source": []
  }
 ],
 "metadata": {
  "kernelspec": {
   "display_name": "Python 3",
   "language": "python",
   "name": "python3"
  },
  "language_info": {
   "codemirror_mode": {
    "name": "ipython",
    "version": 3
   },
   "file_extension": ".py",
   "mimetype": "text/x-python",
   "name": "python",
   "nbconvert_exporter": "python",
   "pygments_lexer": "ipython3",
   "version": "3.7.6"
  }
 },
 "nbformat": 4,
 "nbformat_minor": 4
}
